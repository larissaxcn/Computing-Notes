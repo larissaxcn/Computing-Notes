{
 "cells": [
  {
   "cell_type": "code",
   "execution_count": null,
   "id": "52cbe802",
   "metadata": {},
   "outputs": [],
   "source": [
    "# error-less debugging\n",
    "a = 1\n",
    "b = 2"
   ]
  }
 ],
 "metadata": {
  "language_info": {
   "name": "python"
  }
 },
 "nbformat": 4,
 "nbformat_minor": 5
}
