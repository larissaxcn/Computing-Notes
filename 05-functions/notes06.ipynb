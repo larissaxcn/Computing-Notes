{
 "cells": [
  {
   "cell_type": "code",
   "execution_count": null,
   "id": "52cbe802",
   "metadata": {},
   "outputs": [],
   "source": [
    "# error-less debugging\n",
    "a = 1\n",
    "b = 2"
   ]
  },
  {
   "cell_type": "markdown",
   "id": "622afa97",
   "metadata": {},
   "source": [
    "# What Is a Function Signature?\n",
    "- The function signature is the first line of a function. It tells Python:\n",
    "- the name of the function,\n",
    "- what parameters it takes,\n",
    "- and what it will return (sometimes this is just a hint, like -> int)."
   ]
  },
  {
   "cell_type": "code",
   "execution_count": null,
   "id": "62116ebf",
   "metadata": {},
   "outputs": [],
   "source": [
    "def add(a: int, b: int) -> int:\n",
    "# This is the function signature.\n",
    "# It says the function is called add, it takes two integers a and b, and it returns an int."
   ]
  }
 ],
 "metadata": {
  "language_info": {
   "name": "python"
  }
 },
 "nbformat": 4,
 "nbformat_minor": 5
}
