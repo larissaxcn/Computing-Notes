{
 "cells": [
  {
   "cell_type": "markdown",
   "id": "91a8a8bf",
   "metadata": {},
   "source": [
    "## Assignment 4 Solutions"
   ]
  },
  {
   "cell_type": "code",
   "execution_count": 4,
   "id": "f860c639",
   "metadata": {},
   "outputs": [
    {
     "name": "stdout",
     "output_type": "stream",
     "text": [
      "POSITIVE\n"
     ]
    }
   ],
   "source": [
    "# Q1\n",
    "\n",
    "x = 2\n",
    "if x == 0:\n",
    "    s = \"ZERO\"\n",
    "elif x > 0:\n",
    "    s = \"POSITIVE\"\n",
    "else:\n",
    "    s = \"NEGATIVE\"\n",
    "\n",
    "print(s)"
   ]
  },
  {
   "cell_type": "code",
   "execution_count": 7,
   "id": "9582730b",
   "metadata": {},
   "outputs": [
    {
     "name": "stdout",
     "output_type": "stream",
     "text": [
      "3\n"
     ]
    }
   ],
   "source": [
    "# Q2\n",
    "\n",
    "lb, ub, p, q = 1, 20, 2, 3\n",
    "count = 0\n",
    "for i in range(lb, ub + 1):\n",
    "    if (i % p == 0) and (i % q == 0):\n",
    "        count += 1\n",
    "print(count)"
   ]
  },
  {
   "cell_type": "code",
   "execution_count": 9,
   "id": "16b95169",
   "metadata": {},
   "outputs": [
    {
     "name": "stdout",
     "output_type": "stream",
     "text": [
      "2\n"
     ]
    }
   ],
   "source": [
    "# Q3\n",
    "\n",
    "lst = [-1, 2, -3, 4, 0]\n",
    "count = 0\n",
    "for i in lst:\n",
    "    if i < 0:\n",
    "        count += 1\n",
    "print(count)"
   ]
  },
  {
   "cell_type": "code",
   "execution_count": 14,
   "id": "fe6ceec3",
   "metadata": {},
   "outputs": [
    {
     "name": "stdout",
     "output_type": "stream",
     "text": [
      "False\n"
     ]
    }
   ],
   "source": [
    "# Q4\n",
    "\n",
    "all_pos = True\n",
    "for i in lst:\n",
    "    if i < 0:\n",
    "        all_pos = False\n",
    "        break\n",
    "\n",
    "print(all_pos)"
   ]
  },
  {
   "cell_type": "code",
   "execution_count": null,
   "id": "62909da7",
   "metadata": {},
   "outputs": [
    {
     "name": "stdout",
     "output_type": "stream",
     "text": [
      "{'x': 10, 'y': 20, 'z': 30}\n"
     ]
    }
   ],
   "source": [
    "# Q5 - alt 1\n",
    "keys = [\"x\", \"y\", \"z\"]\n",
    "values = [10, 20 , 30]\n",
    "rv = {}\n",
    "n = len(keys)\n",
    "for i in range(n):\n",
    "    rv[keys[i]] = values[i]\n",
    "print(rv)"
   ]
  },
  {
   "cell_type": "code",
   "execution_count": 21,
   "id": "90f236b0",
   "metadata": {},
   "outputs": [
    {
     "name": "stdout",
     "output_type": "stream",
     "text": [
      "{'x': 10, 'y': 20, 'z': 30}\n"
     ]
    }
   ],
   "source": [
    "# Q5 - alt 2\n",
    "rv = {}\n",
    "for i, key in enumerate(keys):\n",
    "    rv[key] = values[i]\n",
    "print(rv)"
   ]
  },
  {
   "cell_type": "code",
   "execution_count": 23,
   "id": "87a521f3",
   "metadata": {},
   "outputs": [
    {
     "data": {
      "text/plain": [
       "{'x': 10, 'y': 20, 'z': 30}"
      ]
     },
     "execution_count": 23,
     "metadata": {},
     "output_type": "execute_result"
    }
   ],
   "source": [
    "# Q5 - alt 3\n",
    "{k:v for k, v in zip(keys, values)}"
   ]
  },
  {
   "cell_type": "code",
   "execution_count": 25,
   "id": "a261d8ce",
   "metadata": {},
   "outputs": [
    {
     "data": {
      "text/plain": [
       "{'x': 10, 'y': 20, 'z': 30}"
      ]
     },
     "execution_count": 25,
     "metadata": {},
     "output_type": "execute_result"
    }
   ],
   "source": [
    "# Q5 - alt 4\n",
    "dict(zip(keys, values))"
   ]
  },
  {
   "cell_type": "code",
   "execution_count": null,
   "id": "1071561c",
   "metadata": {},
   "outputs": [
    {
     "name": "stdout",
     "output_type": "stream",
     "text": [
      "vegetation-rich 4\n"
     ]
    }
   ],
   "source": [
    "# Q6\n",
    "band_red = [[1, 10, 255],\n",
    "            [200, 155, 20],\n",
    "            [30, 20, 10]]\n",
    "\n",
    "band_nir = [[1, 20, 255],\n",
    "            [10, 20, 30],\n",
    "            [200, 155, 20]]\n",
    "\n",
    "n = len(band_red)\n",
    "\n",
    "label_freqs = {}\n",
    "highest_freq_label = \"\"\n",
    "highest_count = 0\n",
    "for i in range(n):\n",
    "    for j in range(n):\n",
    "        ndvi = ((band_nir[i][j] - band_red[i][j]) \n",
    "              / (band_nir[i][j] + band_red[i][j]))\n",
    "        if ndvi > 0.25:\n",
    "            label = \"vegetation-rich\"\n",
    "        elif ndvi > -0.25:\n",
    "            label = \"barren\"\n",
    "        else:\n",
    "            label = \"flooded\"\n",
    "        label_freqs[label] = label_freqs.get(label, 0) + 1\n",
    "\n",
    "        if label_freqs[label] > highest_count:\n",
    "            highest_freq_label = label\n",
    "            highest_count = label_freqs[label]\n",
    "\n",
    "print(highest_freq_label, highest_count)"
   ]
  },
  {
   "cell_type": "code",
   "execution_count": null,
   "id": "20749787",
   "metadata": {},
   "outputs": [
    {
     "name": "stdout",
     "output_type": "stream",
     "text": [
      "4 vegetation-rich\n"
     ]
    }
   ],
   "source": [
    "# possible for max (less efficient)\n",
    "highest_freq_label = \"\"\n",
    "highest_count = 0\n",
    "for k, v in label_freqs.items():\n",
    "    if v > highest_count:\n",
    "        highest_count = v\n",
    "        highest_freq_label = k\n",
    "print(highest_count, highest_freq_label)"
   ]
  },
  {
   "cell_type": "code",
   "execution_count": 37,
   "id": "29ffbcf0",
   "metadata": {},
   "outputs": [
    {
     "name": "stdout",
     "output_type": "stream",
     "text": [
      "30\n"
     ]
    },
    {
     "data": {
      "text/plain": [
       "'c'"
      ]
     },
     "execution_count": 37,
     "metadata": {},
     "output_type": "execute_result"
    }
   ],
   "source": [
    "lst = [10, 20, 30]\n",
    "lst2 = ['c', 'b', 'a']\n",
    "print(max(lst))\n",
    "max(lst2)"
   ]
  },
  {
   "cell_type": "code",
   "execution_count": 40,
   "id": "f04af8b9",
   "metadata": {},
   "outputs": [
    {
     "data": {
      "text/plain": [
       "'vegetation-rich'"
      ]
     },
     "execution_count": 40,
     "metadata": {},
     "output_type": "execute_result"
    }
   ],
   "source": [
    "d = {'barren': 5, 'vegetation-rich': 4, 'flooded': 2}\n",
    "max(d)"
   ]
  },
  {
   "cell_type": "code",
   "execution_count": 41,
   "id": "359d1b0b",
   "metadata": {},
   "outputs": [
    {
     "data": {
      "text/plain": [
       "'barren'"
      ]
     },
     "execution_count": 41,
     "metadata": {},
     "output_type": "execute_result"
    }
   ],
   "source": [
    "max(d, key=d.get)"
   ]
  },
  {
   "cell_type": "code",
   "execution_count": null,
   "id": "7caed517",
   "metadata": {},
   "outputs": [
    {
     "data": {
      "text/plain": [
       "'vegetation-rich'"
      ]
     },
     "execution_count": 42,
     "metadata": {},
     "output_type": "execute_result"
    }
   ],
   "source": [
    "# for Q6 (less efficient max)\n",
    "max(label_freqs, key=label_freqs.get)"
   ]
  },
  {
   "cell_type": "code",
   "execution_count": 47,
   "id": "29765490",
   "metadata": {},
   "outputs": [
    {
     "name": "stdout",
     "output_type": "stream",
     "text": [
      "[[1.0, 10.0, 255.0], [200.0, 155.0, 20.0], [30.0, 20.0, 10.0]]\n",
      "[[1.0, 20.0, 255.0], [10.0, 20.0, 30.0], [200.0, 155.0, 20.0]]\n"
     ]
    }
   ],
   "source": [
    "# Q7\n",
    "\n",
    "import csv \n",
    "band_red = []\n",
    "band_nir = []\n",
    "\n",
    "with open('band_red.csv') as f:\n",
    "    reader = csv.reader(f, quoting=csv.QUOTE_NONNUMERIC)\n",
    "    for row in reader:\n",
    "        band_red.append(row)\n",
    "\n",
    "with open('band_nir.csv') as f:\n",
    "    reader = csv.reader(f, quoting=csv.QUOTE_NONNUMERIC)\n",
    "    for row in reader:\n",
    "        band_nir.append(row)\n",
    "\n",
    "print(band_red)\n",
    "print(band_nir)"
   ]
  },
  {
   "cell_type": "markdown",
   "id": "2d51f90e",
   "metadata": {},
   "source": [
    "## Coin Flip Demo\n",
    "\n",
    "How many times do I need to flip a coin in order to get 5 heads in row?"
   ]
  },
  {
   "cell_type": "code",
   "execution_count": 48,
   "id": "dac26e97",
   "metadata": {},
   "outputs": [],
   "source": [
    "import random"
   ]
  },
  {
   "cell_type": "code",
   "execution_count": 82,
   "id": "113bb0a5",
   "metadata": {},
   "outputs": [
    {
     "name": "stdout",
     "output_type": "stream",
     "text": [
      "0.8444218515250481\n",
      "0.7579544029403025\n",
      "0.420571580830845\n",
      "0.25891675029296335\n",
      "0.5112747213686085\n"
     ]
    }
   ],
   "source": [
    "random.seed(0)\n",
    "for i in range(5):\n",
    "    print(random.random())"
   ]
  },
  {
   "cell_type": "code",
   "execution_count": 113,
   "id": "efe44e25",
   "metadata": {},
   "outputs": [
    {
     "name": "stdout",
     "output_type": "stream",
     "text": [
      "heads\n"
     ]
    }
   ],
   "source": [
    "flip = random.random()\n",
    "if flip < 0.5:\n",
    "    print(\"heads\")\n",
    "else:\n",
    "    print(\"tails\")"
   ]
  },
  {
   "cell_type": "code",
   "execution_count": 116,
   "id": "74c8420a",
   "metadata": {},
   "outputs": [
    {
     "name": "stdout",
     "output_type": "stream",
     "text": [
      "23\n"
     ]
    }
   ],
   "source": [
    "target = 5\n",
    "consecutive_heads = 0\n",
    "total_flips = 0\n",
    "random.seed(2)\n",
    "\n",
    "while consecutive_heads < target:\n",
    "    # Flip a coin\n",
    "    flip = random.random()\n",
    "\n",
    "    # If it's heads, increment consecutive_heads\n",
    "    if flip < 0.5:\n",
    "        consecutive_heads += 1\n",
    "\n",
    "    # If it's tails, set consecutive_heads back to 0\n",
    "    else:\n",
    "        consecutive_heads = 0\n",
    "\n",
    "    # Increment total_flips after the coin has been flipped\n",
    "    total_flips += 1\n",
    "\n",
    "print(total_flips)"
   ]
  },
  {
   "cell_type": "code",
   "execution_count": 119,
   "id": "38304693",
   "metadata": {},
   "outputs": [
    {
     "data": {
      "text/plain": [
       "13"
      ]
     },
     "execution_count": 119,
     "metadata": {},
     "output_type": "execute_result"
    }
   ],
   "source": [
    "random.randint(1, 20)"
   ]
  },
  {
   "cell_type": "markdown",
   "id": "966da516",
   "metadata": {},
   "source": [
    "## Functions    \n"
   ]
  },
  {
   "cell_type": "code",
   "execution_count": 133,
   "id": "0043c2db",
   "metadata": {},
   "outputs": [],
   "source": [
    "def f(x, z):\n",
    "    '''\n",
    "    Solves the equation x ** 2 + x + z\n",
    "    Input: x (float or int), z (float or int)\n",
    "    Returns: Solution to equation (float or int)\n",
    "    '''\n",
    "    rv = x ** 2 + x + z\n",
    "    return rv"
   ]
  },
  {
   "cell_type": "code",
   "execution_count": 128,
   "id": "9fe18dd1",
   "metadata": {},
   "outputs": [
    {
     "data": {
      "text/plain": [
       "3"
      ]
     },
     "execution_count": 128,
     "metadata": {},
     "output_type": "execute_result"
    }
   ],
   "source": [
    "f(x=1, z=1)"
   ]
  },
  {
   "cell_type": "code",
   "execution_count": 129,
   "id": "94e1d7a0",
   "metadata": {},
   "outputs": [
    {
     "data": {
      "text/plain": [
       "3"
      ]
     },
     "execution_count": 129,
     "metadata": {},
     "output_type": "execute_result"
    }
   ],
   "source": [
    "f(1, 1)"
   ]
  },
  {
   "cell_type": "code",
   "execution_count": 132,
   "id": "09bf67c8",
   "metadata": {},
   "outputs": [
    {
     "data": {
      "text/plain": [
       "7"
      ]
     },
     "execution_count": 132,
     "metadata": {},
     "output_type": "execute_result"
    }
   ],
   "source": [
    "f(2, z=1)"
   ]
  },
  {
   "cell_type": "code",
   "execution_count": 134,
   "id": "3289c060",
   "metadata": {},
   "outputs": [
    {
     "name": "stdout",
     "output_type": "stream",
     "text": [
      "\u001b[0;31mSignature:\u001b[0m \u001b[0mf\u001b[0m\u001b[0;34m(\u001b[0m\u001b[0mx\u001b[0m\u001b[0;34m,\u001b[0m \u001b[0mz\u001b[0m\u001b[0;34m)\u001b[0m\u001b[0;34m\u001b[0m\u001b[0;34m\u001b[0m\u001b[0m\n",
      "\u001b[0;31mDocstring:\u001b[0m\n",
      "Solves the equation x ** 2 + x + z\n",
      "Input: x (float or int), z (float or int)\n",
      "Returns: Solution to equation (float or int)\n",
      "\u001b[0;31mFile:\u001b[0m      /tmp/ipykernel_33647/230056230.py\n",
      "\u001b[0;31mType:\u001b[0m      function"
     ]
    }
   ],
   "source": [
    "f?"
   ]
  },
  {
   "cell_type": "code",
   "execution_count": 135,
   "id": "dbf0947e",
   "metadata": {},
   "outputs": [
    {
     "name": "stdout",
     "output_type": "stream",
     "text": [
      "\u001b[0;31mDocstring:\u001b[0m\n",
      "csv_reader = reader(iterable [, dialect='excel']\n",
      "                        [optional keyword args])\n",
      "    for row in csv_reader:\n",
      "        process(row)\n",
      "\n",
      "The \"iterable\" argument can be any object that returns a line\n",
      "of input for each iteration, such as a file object or a list.  The\n",
      "optional \"dialect\" parameter is discussed below.  The function\n",
      "also accepts optional keyword arguments which override settings\n",
      "provided by the dialect.\n",
      "\n",
      "The returned object is an iterator.  Each iteration returns a row\n",
      "of the CSV file (which can span multiple input lines).\n",
      "\u001b[0;31mType:\u001b[0m      builtin_function_or_method"
     ]
    }
   ],
   "source": [
    "csv.reader?"
   ]
  },
  {
   "cell_type": "code",
   "execution_count": 1,
   "id": "16ce059e",
   "metadata": {},
   "outputs": [],
   "source": [
    "%load_ext autoreload\n",
    "%autoreload 2\n",
    "\n",
    "import example_module"
   ]
  },
  {
   "cell_type": "code",
   "execution_count": 3,
   "id": "32e4fd08",
   "metadata": {},
   "outputs": [
    {
     "data": {
      "text/plain": [
       "4"
      ]
     },
     "execution_count": 3,
     "metadata": {},
     "output_type": "execute_result"
    }
   ],
   "source": [
    "example_module.f(x=1, z=2)"
   ]
  },
  {
   "cell_type": "code",
   "execution_count": 138,
   "id": "d58fbc0a",
   "metadata": {},
   "outputs": [
    {
     "name": "stdout",
     "output_type": "stream",
     "text": [
      "\u001b[0;31mSignature:\u001b[0m \u001b[0mexample_module\u001b[0m\u001b[0;34m.\u001b[0m\u001b[0mf\u001b[0m\u001b[0;34m(\u001b[0m\u001b[0mx\u001b[0m\u001b[0;34m=\u001b[0m\u001b[0;36m1\u001b[0m\u001b[0;34m,\u001b[0m \u001b[0mz\u001b[0m\u001b[0;34m=\u001b[0m\u001b[0;36m1\u001b[0m\u001b[0;34m)\u001b[0m\u001b[0;34m\u001b[0m\u001b[0;34m\u001b[0m\u001b[0m\n",
      "\u001b[0;31mDocstring:\u001b[0m\n",
      "Solves the equation: x**2 + x + z\n",
      "Input: x (float or int), z (float or int)\n",
      "Returns: Solution to equation (float or int)\n",
      "\u001b[0;31mFile:\u001b[0m      ~/courses/macs30120/course-materials/05-functions/example_module.py\n",
      "\u001b[0;31mType:\u001b[0m      function"
     ]
    }
   ],
   "source": [
    "example_module.f?"
   ]
  },
  {
   "cell_type": "code",
   "execution_count": 139,
   "id": "d73da2fe",
   "metadata": {},
   "outputs": [
    {
     "data": {
      "text/plain": [
       "4"
      ]
     },
     "execution_count": 139,
     "metadata": {},
     "output_type": "execute_result"
    }
   ],
   "source": [
    "example_module.f(x=1, z=2)"
   ]
  },
  {
   "cell_type": "code",
   "execution_count": 4,
   "id": "e37f2757",
   "metadata": {},
   "outputs": [
    {
     "data": {
      "text/plain": [
       "'vegetation-rich'"
      ]
     },
     "execution_count": 4,
     "metadata": {},
     "output_type": "execute_result"
    }
   ],
   "source": [
    "band_red = [[1, 10, 255],\n",
    "            [200, 155, 20],\n",
    "            [30, 20, 10]]\n",
    "\n",
    "band_nir = [[1, 20, 255],\n",
    "            [10, 20, 30],\n",
    "            [200, 155, 20]]\n",
    "\n",
    "def label_region(band_red, band_nir):\n",
    "    n = len(band_red)\n",
    "    label_freqs = {}\n",
    "    highest_freq_label = \"\"\n",
    "    highest_count = 0\n",
    "    for i in range(n):\n",
    "        for j in range(n):\n",
    "            ndvi = calc_ndvi(band_red[i][j], band_nir[i][j])\n",
    "            label = label_ndvi(ndvi)\n",
    "            label_freqs[label] = label_freqs.get(label, 0) + 1\n",
    "\n",
    "            if label_freqs[label] > highest_count:\n",
    "                highest_freq_label = label\n",
    "                highest_count = label_freqs[label]\n",
    "    \n",
    "    return highest_freq_label\n",
    "\n",
    "def label_ndvi(ndvi):\n",
    "    if ndvi > 0.25:\n",
    "        return \"vegetation-rich\"\n",
    "    elif ndvi > -0.25:\n",
    "        return \"barren\"\n",
    "    else:\n",
    "        return \"flooded\"\n",
    "\n",
    "def calc_ndvi(p_red, p_nir):\n",
    "    return (p_nir - p_red) / (p_nir + p_red)\n",
    "\n",
    "label_region(band_red, band_nir)"
   ]
  }
 ],
 "metadata": {
  "kernelspec": {
   "display_name": "base",
   "language": "python",
   "name": "python3"
  },
  "language_info": {
   "codemirror_mode": {
    "name": "ipython",
    "version": 3
   },
   "file_extension": ".py",
   "mimetype": "text/x-python",
   "name": "python",
   "nbconvert_exporter": "python",
   "pygments_lexer": "ipython3",
   "version": "3.11.7"
  }
 },
 "nbformat": 4,
 "nbformat_minor": 5
}
