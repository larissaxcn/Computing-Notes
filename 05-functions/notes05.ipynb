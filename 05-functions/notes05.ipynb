{
 "cells": [
  {
   "cell_type": "markdown",
   "id": "81f7c2ee",
   "metadata": {},
   "source": [
    "# Functions"
   ]
  },
  {
   "cell_type": "code",
   "execution_count": null,
   "id": "ad8fbcd6",
   "metadata": {},
   "outputs": [],
   "source": [
    "def f(x,z):\n",
    "    ''' # doc string\n",
    "    solves the equation x ** 2 + x + z (describe the function; what it does)\n",
    "    input: x (float or int), z (float or int)\n",
    "    returns: solution to equation (float or int)\n",
    "\n",
    "    '''\n",
    "    rv = x**2 + x +z\n",
    "    return rv\n",
    "\n",
    "\n"
   ]
  },
  {
   "cell_type": "code",
   "execution_count": 7,
   "id": "5b9f7698",
   "metadata": {},
   "outputs": [
    {
     "data": {
      "text/plain": [
       "3"
      ]
     },
     "execution_count": 7,
     "metadata": {},
     "output_type": "execute_result"
    }
   ],
   "source": [
    "f(x=1, z=1)"
   ]
  },
  {
   "cell_type": "code",
   "execution_count": 9,
   "id": "d857a6e9",
   "metadata": {},
   "outputs": [
    {
     "ename": "SyntaxError",
     "evalue": "positional argument follows keyword argument (3306723389.py, line 1)",
     "output_type": "error",
     "traceback": [
      "\u001b[0;36m  Cell \u001b[0;32mIn[9], line 1\u001b[0;36m\u001b[0m\n\u001b[0;31m    f(x=2, 1)\u001b[0m\n\u001b[0m            ^\u001b[0m\n\u001b[0;31mSyntaxError\u001b[0m\u001b[0;31m:\u001b[0m positional argument follows keyword argument\n"
     ]
    }
   ],
   "source": [
    "f(x=2, 1)\n",
    "# can't do mix and match"
   ]
  },
  {
   "cell_type": "code",
   "execution_count": 10,
   "id": "9a24bf2e",
   "metadata": {},
   "outputs": [
    {
     "data": {
      "text/plain": [
       "3"
      ]
     },
     "execution_count": 10,
     "metadata": {},
     "output_type": "execute_result"
    }
   ],
   "source": [
    "f(1,1)"
   ]
  },
  {
   "cell_type": "code",
   "execution_count": 11,
   "id": "b7198c04",
   "metadata": {},
   "outputs": [
    {
     "name": "stdout",
     "output_type": "stream",
     "text": [
      "\u001b[0;31mSignature:\u001b[0m \u001b[0mf\u001b[0m\u001b[0;34m(\u001b[0m\u001b[0mx\u001b[0m\u001b[0;34m,\u001b[0m \u001b[0mz\u001b[0m\u001b[0;34m)\u001b[0m\u001b[0;34m\u001b[0m\u001b[0;34m\u001b[0m\u001b[0m\n",
      "\u001b[0;31mDocstring:\u001b[0m <no docstring>\n",
      "\u001b[0;31mFile:\u001b[0m      /var/folders/ct/kg3tlky97ml2r4n7tmycrrxr0000gn/T/ipykernel_59568/350849891.py\n",
      "\u001b[0;31mType:\u001b[0m      function"
     ]
    }
   ],
   "source": [
    "f?"
   ]
  },
  {
   "cell_type": "code",
   "execution_count": 12,
   "id": "0a7cf4be",
   "metadata": {},
   "outputs": [
    {
     "name": "stdout",
     "output_type": "stream",
     "text": [
      "Object `csv.reader` not found.\n"
     ]
    }
   ],
   "source": [
    "csv.reader?"
   ]
  },
  {
   "cell_type": "markdown",
   "id": "879aa4b8",
   "metadata": {},
   "source": [
    "# Abstraction via Functions\n",
    "- Organize work into discrete taks\n",
    "- Reuse code\n",
    "- Test solution for a task in isolation\n"
   ]
  },
  {
   "cell_type": "code",
   "execution_count": 17,
   "id": "c6e61ff4",
   "metadata": {},
   "outputs": [
    {
     "name": "stdout",
     "output_type": "stream",
     "text": [
      "The autoreload extension is already loaded. To reload it, use:\n",
      "  %reload_ext autoreload\n"
     ]
    },
    {
     "data": {
      "text/plain": [
       "4"
      ]
     },
     "execution_count": 17,
     "metadata": {},
     "output_type": "execute_result"
    }
   ],
   "source": [
    "%load_ext autoreload\n",
    "%autoreload 2\n",
    "# like clicking the restart button\n",
    "import example_module\n",
    "example_module.f(x=1, z=2)"
   ]
  },
  {
   "cell_type": "code",
   "execution_count": 15,
   "id": "c8a80820",
   "metadata": {},
   "outputs": [
    {
     "name": "stdout",
     "output_type": "stream",
     "text": [
      "\u001b[0;31mSignature:\u001b[0m \u001b[0mexample_module\u001b[0m\u001b[0;34m.\u001b[0m\u001b[0mf\u001b[0m\u001b[0;34m(\u001b[0m\u001b[0mx\u001b[0m\u001b[0;34m=\u001b[0m\u001b[0;36m1\u001b[0m\u001b[0;34m,\u001b[0m \u001b[0mz\u001b[0m\u001b[0;34m=\u001b[0m\u001b[0;36m1\u001b[0m\u001b[0;34m)\u001b[0m\u001b[0;34m\u001b[0m\u001b[0;34m\u001b[0m\u001b[0m\n",
      "\u001b[0;31mDocstring:\u001b[0m\n",
      "Solves the equation: x**2 + x + z\n",
      "Input: x (float or int), z (float or int)\n",
      "Returns: Solution to equation (float or int)\n",
      "\u001b[0;31mFile:\u001b[0m      ~/assignments/course-materials/05-functions/example_module.py\n",
      "\u001b[0;31mType:\u001b[0m      function"
     ]
    }
   ],
   "source": [
    "example_module.f?"
   ]
  },
  {
   "cell_type": "code",
   "execution_count": null,
   "id": "f8112ce8",
   "metadata": {},
   "outputs": [],
   "source": [
    "band_red = [[1, 10, 255],\n",
    "            [200, 155, 20],\n",
    "            [30, 20, 10]]\n",
    "band_nir = [[1, 20, 255],\n",
    "            [10, 20, 30],\n",
    "            [200, 155, 20]]\n",
    "\n",
    "def label_region(band_red, band_nir):\n",
    "    n = len(band_red)\n",
    "    labels_freq = {}\n",
    "    highest_freq_label = \"\"\n",
    "    for i in range(n):\n",
    "        for j in range(n):\n",
    "            ndvi = calc_ndvi(band_red[i][j],band_nir[i][j])\n",
    "            label = label_ndvi(ndvi) \n",
    "            label_freqs[label] = labels_freq.get(label, 0) + 1\n",
    "\n",
    "            if labels_freq[label] > highest_count:\n",
    "                highest_freq_label = label\n",
    "                highest_count = labels_freq[label]\n",
    "\n",
    "            return highest_freq_label\n",
    "\n",
    "    def calc_ndvi(p_red, p_nir):\n",
    "            return(p_nir - p_red)/(p_nir + p_red)\n",
    "\n",
    "    label_region(band_red, band_nir)\n",
    "\n",
    "    def label_ndvi(ndvi):        \n",
    "            if ndvi > 0.25:\n",
    "                label = \"vegetation-rich\"\n",
    "            elif ndvi > -0.25:\n",
    "                label = \"barren\"\n",
    "            else:\n",
    "                label = \"flooded\"\n",
    "            # print(label) # give me label for every single pixel\n",
    "            labels_freq[label] = labels_freq.get(label, 0) + 1\n",
    "\n",
    "            if labels_freq[label] > highest_count:\n",
    "                highest_freq_label = label\n",
    "                highest_count = labels_freq[label]\n",
    "\n",
    "    print(highest_freq_label, highest_count)\n",
    "        # get whatever freq associated with that label\n",
    "        # first time i add the label, it's 0\n",
    "\n",
    "highest_freq_label = \"\"\n",
    "highest_count = 0\n",
    "for k, v in labels_freq.items():\n",
    "    if v > highest_count:\n",
    "        highest_count = v\n",
    "        highest_freq_label = k\n",
    "print(highest_count, highest_freq_label)\"\n",
    "\n",
    "# max(d, key=d.get)\n",
    "# max(label_freqs, key=label_freqs.get)\n"
   ]
  }
 ],
 "metadata": {
  "kernelspec": {
   "display_name": "base",
   "language": "python",
   "name": "python3"
  },
  "language_info": {
   "codemirror_mode": {
    "name": "ipython",
    "version": 3
   },
   "file_extension": ".py",
   "mimetype": "text/x-python",
   "name": "python",
   "nbconvert_exporter": "python",
   "pygments_lexer": "ipython3",
   "version": "3.13.5"
  }
 },
 "nbformat": 4,
 "nbformat_minor": 5
}
