{
 "cells": [
  {
   "cell_type": "markdown",
   "id": "ab367cc8",
   "metadata": {},
   "source": [
    "## Efficiency considerations\n",
    "\n",
    "Create lists of different sizes to simulate different data sizes"
   ]
  },
  {
   "cell_type": "code",
   "execution_count": 1,
   "id": "03935dfb",
   "metadata": {},
   "outputs": [],
   "source": [
    "import random\n",
    "\n",
    "lst_1k = [random.random() for i in range(1000)]\n",
    "lst_10k = [random.random() for i in range(10000)]\n",
    "lst_100k = [random.random() for i in range(100000)]\n",
    "lst_1m = [random.random() for i in range(1000000)]"
   ]
  },
  {
   "cell_type": "code",
   "execution_count": 2,
   "id": "a6ffaf3d",
   "metadata": {},
   "outputs": [
    {
     "name": "stdout",
     "output_type": "stream",
     "text": [
      "CPU times: user 270 µs, sys: 74 µs, total: 344 µs\n",
      "Wall time: 360 µs\n",
      "CPU times: user 4.69 ms, sys: 0 ns, total: 4.69 ms\n",
      "Wall time: 4.43 ms\n",
      "CPU times: user 20.5 ms, sys: 2.67 ms, total: 23.2 ms\n",
      "Wall time: 21.8 ms\n",
      "CPU times: user 96.5 ms, sys: 16 ms, total: 112 ms\n",
      "Wall time: 112 ms\n"
     ]
    }
   ],
   "source": [
    "import random\n",
    "# can also use %timeit to show mean + std dev of multiple runs\n",
    "%time lst_1k = [random.random() for i in range(1000)]\n",
    "%time lst_10k = [random.random() for i in range(10000)]\n",
    "%time lst_100k = [random.random() for i in range(100000)]\n",
    "%time lst_1m = [random.random() for i in range(1000000)]"
   ]
  },
  {
   "cell_type": "markdown",
   "id": "34fec455",
   "metadata": {},
   "source": [
    "**Time Complexity Examples**"
   ]
  },
  {
   "cell_type": "code",
   "execution_count": 3,
   "id": "967a589a",
   "metadata": {},
   "outputs": [
    {
     "name": "stdout",
     "output_type": "stream",
     "text": [
      "CPU times: user 1.42 ms, sys: 0 ns, total: 1.42 ms\n",
      "Wall time: 1.45 ms\n",
      "CPU times: user 9.81 ms, sys: 4.51 ms, total: 14.3 ms\n",
      "Wall time: 13.4 ms\n",
      "CPU times: user 73 ms, sys: 3 ms, total: 76 ms\n",
      "Wall time: 74.6 ms\n"
     ]
    }
   ],
   "source": [
    "def linear_time(lst):\n",
    "    '''\n",
    "    O(n)\n",
    "    '''\n",
    "    for i, val in enumerate(lst):\n",
    "        lst[i] = val * 2\n",
    "    return lst\n",
    "\n",
    "%time lst = linear_time(lst_10k)\n",
    "%time lst = linear_time(lst_100k)\n",
    "%time lst = linear_time(lst_1m)"
   ]
  },
  {
   "cell_type": "code",
   "execution_count": 4,
   "id": "cfa389ce",
   "metadata": {},
   "outputs": [
    {
     "name": "stdout",
     "output_type": "stream",
     "text": [
      "CPU times: user 7 µs, sys: 0 ns, total: 7 µs\n",
      "Wall time: 11.4 µs\n",
      "CPU times: user 0 ns, sys: 8 µs, total: 8 µs\n",
      "Wall time: 11.2 µs\n",
      "CPU times: user 0 ns, sys: 8 µs, total: 8 µs\n",
      "Wall time: 11.2 µs\n"
     ]
    }
   ],
   "source": [
    "def constant_time(lst):\n",
    "    '''\n",
    "    O(1) -- proportional to some constant, not problem size\n",
    "    '''\n",
    "    return lst[0] + 2\n",
    "\n",
    "%time c = constant_time(lst_10k)\n",
    "%time c = constant_time(lst_100k)\n",
    "%time c = constant_time(lst_1m)"
   ]
  },
  {
   "cell_type": "code",
   "execution_count": null,
   "id": "fc59e01f",
   "metadata": {},
   "outputs": [
    {
     "name": "stdout",
     "output_type": "stream",
     "text": [
      "CPU times: user 48.7 ms, sys: 4.08 ms, total: 52.7 ms\n",
      "Wall time: 51.1 ms\n",
      "CPU times: user 5.38 s, sys: 3.81 ms, total: 5.38 s\n",
      "Wall time: 5.38 s\n"
     ]
    }
   ],
   "source": [
    "def exponential_time(lst):\n",
    "    '''\n",
    "    O(n*m) or O(n**2) depending on size of inner loop. \n",
    "    \n",
    "    Takeaway: nesting is really expensive; use only when\n",
    "    absolutely necessary.\n",
    "    '''\n",
    "    for i, val in enumerate(lst):\n",
    "        for j in range(len(lst)):\n",
    "            lst[i] = val * j\n",
    "    return lst\n",
    "\n",
    "%time lst = exponential_time(lst_1k)\n",
    "%time lst = exponential_time(lst_10k) # 100 times slower\n",
    "# takes too long for 100k and 1m"
   ]
  },
  {
   "cell_type": "markdown",
   "id": "f5cff6b1",
   "metadata": {},
   "source": [
    "**Eliminate unnecessary loop operations**"
   ]
  },
  {
   "cell_type": "code",
   "execution_count": null,
   "id": "700f2681",
   "metadata": {},
   "outputs": [
    {
     "name": "stdout",
     "output_type": "stream",
     "text": [
      "CPU times: user 984 µs, sys: 54 µs, total: 1.04 ms\n",
      "Wall time: 1.05 ms\n",
      "CPU times: user 10.2 ms, sys: 3.94 ms, total: 14.1 ms\n",
      "Wall time: 13.5 ms\n",
      "CPU times: user 99.6 ms, sys: 28.2 ms, total: 128 ms\n",
      "Wall time: 127 ms\n",
      "CPU times: user 2.81 ms, sys: 8.01 ms, total: 10.8 ms\n",
      "Wall time: 10.8 ms\n",
      "CPU times: user 4.31 ms, sys: 16 µs, total: 4.33 ms\n",
      "Wall time: 4.34 ms\n",
      "CPU times: user 45.3 ms, sys: 20.1 ms, total: 65.4 ms\n",
      "Wall time: 65.4 ms\n"
     ]
    }
   ],
   "source": [
    "import math\n",
    "\n",
    "def unnecessary(lst, x):\n",
    "    rv = []\n",
    "    for i in range(len(lst)):\n",
    "        rv.append(lst[i] * math.sqrt(x))\n",
    "    return rv\n",
    "\n",
    "def better(lst, x):\n",
    "    rv = []\n",
    "    sqrt = math.sqrt(x)\n",
    "    for i in range(len(lst)):\n",
    "        rv.append(lst[i] * sqrt)\n",
    "    return rv\n",
    "\n",
    "%time lst = unnecessary(lst_10k, 2)\n",
    "%time lst = unnecessary(lst_100k, 2)\n",
    "%time lst = unnecessary(lst_1m, 2)\n",
    "\n",
    "%time lst = better(lst_10k, 2)\n",
    "%time lst = better(lst_100k, 2)\n",
    "%time lst = better(lst_1m, 2)"
   ]
  },
  {
   "cell_type": "markdown",
   "id": "e3a62fa8",
   "metadata": {},
   "source": [
    "**Restrict loop range**"
   ]
  },
  {
   "cell_type": "code",
   "execution_count": 7,
   "id": "0c5b7ec0",
   "metadata": {},
   "outputs": [
    {
     "name": "stdout",
     "output_type": "stream",
     "text": [
      "CPU times: user 57.6 ms, sys: 16 ms, total: 73.6 ms\n",
      "Wall time: 71.7 ms\n",
      "CPU times: user 5.47 s, sys: 2.32 ms, total: 5.47 s\n",
      "Wall time: 5.47 s\n",
      "CPU times: user 40.1 ms, sys: 7.07 ms, total: 47.2 ms\n",
      "Wall time: 46.9 ms\n",
      "CPU times: user 608 ms, sys: 3 µs, total: 608 ms\n",
      "Wall time: 607 ms\n",
      "CPU times: user 478 µs, sys: 17 µs, total: 495 µs\n",
      "Wall time: 499 µs\n",
      "CPU times: user 438 µs, sys: 17 µs, total: 455 µs\n",
      "Wall time: 456 µs\n",
      "CPU times: user 506 µs, sys: 0 ns, total: 506 µs\n",
      "Wall time: 508 µs\n"
     ]
    }
   ],
   "source": [
    "def exponential_time(lst):\n",
    "    '''\n",
    "    O(n*m) or O(n**2) depending on size\n",
    "    of inner loop\n",
    "    '''\n",
    "    for i, val in enumerate(lst):\n",
    "        for j in range(len(lst)):\n",
    "            lst[i] = val * j\n",
    "    return lst\n",
    "\n",
    "def better_exponential_time(lst):\n",
    "    '''\n",
    "    Restricting inner loop helps us a lot\n",
    "    Helpful if we can take advantage of the ordered nature\n",
    "    of our list. For instance, if we're working with sat. images\n",
    "    as lists of lists, we might only actually need to loop over small\n",
    "    neighborhoods of pixels to compute values -- not the whole image.\n",
    "    '''\n",
    "    for i, val in enumerate(lst):\n",
    "        for j in range(len(lst)-1000,len(lst)):\n",
    "            lst[i] = val * j\n",
    "    return lst\n",
    "\n",
    "def sub_linear_time(lst):\n",
    "    '''\n",
    "    O(<n) - less than n now -- compare to original times\n",
    "    * Takes us nearly to constant time -- highly efficient\n",
    "    * If we can somehow limit our search to 10k or so\n",
    "    '''\n",
    "    for i in range(len(lst)-10000, len(lst)):\n",
    "        lst[i] = i * 2\n",
    "    return lst\n",
    "\n",
    "%time lst = exponential_time(lst_1k)\n",
    "%time lst = exponential_time(lst_10k)\n",
    "%time lst = better_exponential_time(lst_1k)\n",
    "%time lst = better_exponential_time(lst_10k)\n",
    "%time lst = sub_linear_time(lst_10k)\n",
    "%time lst = sub_linear_time(lst_100k)\n",
    "%time lst = sub_linear_time(lst_1m)"
   ]
  },
  {
   "cell_type": "markdown",
   "id": "55c92bb4",
   "metadata": {},
   "source": [
    "**Break from loops as soon as possible**\n",
    "\n",
    "E.g. A4, Q4:"
   ]
  },
  {
   "cell_type": "code",
   "execution_count": 7,
   "id": "cb462a7a",
   "metadata": {},
   "outputs": [],
   "source": [
    "lst = [-1, 2, -3, 4, 0]\n",
    "all_pos = True\n",
    "for i in lst:\n",
    "    if i <= 0:\n",
    "        all_pos = False\n",
    "        break"
   ]
  },
  {
   "cell_type": "markdown",
   "id": "123d6a21",
   "metadata": {},
   "source": [
    "**Perform look-ups in dictionaries & sets (not lists) whenever possible**"
   ]
  },
  {
   "cell_type": "code",
   "execution_count": null,
   "id": "66292fd9",
   "metadata": {},
   "outputs": [
    {
     "name": "stdout",
     "output_type": "stream",
     "text": [
      "CPU times: user 4.25 ms, sys: 35 µs, total: 4.28 ms\n",
      "Wall time: 4.39 ms\n",
      "CPU times: user 31.6 ms, sys: 0 ns, total: 31.6 ms\n",
      "Wall time: 31.5 ms\n",
      "CPU times: user 293 ms, sys: 0 ns, total: 293 ms\n",
      "Wall time: 293 ms\n",
      "CPU times: user 5 µs, sys: 0 ns, total: 5 µs\n",
      "Wall time: 6.68 µs\n",
      "CPU times: user 4 µs, sys: 0 ns, total: 4 µs\n",
      "Wall time: 5.01 µs\n",
      "CPU times: user 5 µs, sys: 0 ns, total: 5 µs\n",
      "Wall time: 6.91 µs\n"
     ]
    },
    {
     "data": {
      "text/plain": [
       "False"
      ]
     },
     "execution_count": 9,
     "metadata": {},
     "output_type": "execute_result"
    }
   ],
   "source": [
    "lst_100k = [str(random.random()) for i in range(100000)]\n",
    "lst_1m = [str(random.random()) for i in range(1000000)]\n",
    "lst_10m = [str(random.random()) for i in range(10000000)]\n",
    "\n",
    "d_100k = {str(random.random()):i for i in range(100000)}\n",
    "d_1m = {str(random.random()):i for i in range(1000000)}\n",
    "d_10m = {str(random.random()):i for i in range(10000000)}\n",
    "\n",
    "# convert to string for testing lookups (otherwise uses built-in sort tricks)\n",
    "rand_to_lookup = str(random.random())\n",
    "\n",
    "%time rand_to_lookup in lst_100k # linear time O(n)\n",
    "%time rand_to_lookup in lst_1m\n",
    "%time rand_to_lookup in lst_10m\n",
    "\n",
    "%time rand_to_lookup in d_100k # constant time O(1)\n",
    "%time rand_to_lookup in d_1m\n",
    "%time rand_to_lookup in d_10m"
   ]
  }
 ],
 "metadata": {
  "kernelspec": {
   "display_name": "base",
   "language": "python",
   "name": "python3"
  },
  "language_info": {
   "codemirror_mode": {
    "name": "ipython",
    "version": 3
   },
   "file_extension": ".py",
   "mimetype": "text/x-python",
   "name": "python",
   "nbconvert_exporter": "python",
   "pygments_lexer": "ipython3",
   "version": "3.11.7"
  }
 },
 "nbformat": 4,
 "nbformat_minor": 5
}
