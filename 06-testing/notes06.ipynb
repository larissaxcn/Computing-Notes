{
 "cells": [
  {
   "cell_type": "markdown",
   "id": "57d04f87",
   "metadata": {},
   "source": [
    "# Assert\n",
    "- An assert statement is used to check if a condition is true while the program is running.\n",
    "- If the condition is false, the program will raise an AssertionError.\n",
    "- It's mostly used during testing or debugging to catch bugs early."
   ]
  },
  {
   "cell_type": "markdown",
   "id": "ff579bea",
   "metadata": {
    "vscode": {
     "languageId": "plaintext"
    }
   },
   "source": [
    "# how to catch errors ahead of time\n",
    "- debug while the program is not performming\n",
    "- we want to log every space change of our program\n",
    "- to see if the program is actually behaving the way we expected\n",
    "- when the user asks something, is the input the way i expect?\n"
   ]
  }
 ],
 "metadata": {
  "language_info": {
   "name": "python"
  }
 },
 "nbformat": 4,
 "nbformat_minor": 5
}
