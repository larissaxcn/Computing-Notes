{
 "cells": [
  {
   "cell_type": "code",
   "execution_count": 1,
   "id": "2457f507",
   "metadata": {},
   "outputs": [],
   "source": [
    "%load_ext autoreload\n",
    "%autoreload 2"
   ]
  },
  {
   "cell_type": "code",
   "execution_count": 2,
   "id": "45057e69",
   "metadata": {},
   "outputs": [],
   "source": [
    "import a5instructor"
   ]
  },
  {
   "cell_type": "code",
   "execution_count": 5,
   "id": "51d09c42",
   "metadata": {},
   "outputs": [
    {
     "name": "stdout",
     "output_type": "stream",
     "text": [
      "\u001b[0;31mSignature:\u001b[0m \u001b[0ma5instructor\u001b[0m\u001b[0;34m.\u001b[0m\u001b[0mcompute_matching\u001b[0m\u001b[0;34m(\u001b[0m\u001b[0mlst1\u001b[0m\u001b[0;34m,\u001b[0m \u001b[0mlst2\u001b[0m\u001b[0;34m)\u001b[0m\u001b[0;34m\u001b[0m\u001b[0;34m\u001b[0m\u001b[0m\n",
      "\u001b[0;31mDocstring:\u001b[0m\n",
      "Given two lists of equal length, compute a list\n",
      "that where the ith element is True if the lists\n",
      "match at index i.\n",
      "\n",
      "Input: lst1, lst2 (lists)\n",
      "\n",
      "Returns: list of bools\n",
      "\u001b[0;31mFile:\u001b[0m      ~/courses/macs30120/course-materials/06-testing/a5instructor.py\n",
      "\u001b[0;31mType:\u001b[0m      function"
     ]
    }
   ],
   "source": [
    "a5instructor.compute_matching?"
   ]
  },
  {
   "cell_type": "code",
   "execution_count": 9,
   "id": "b4204386",
   "metadata": {},
   "outputs": [
    {
     "data": {
      "text/plain": [
       "[1, 2, 3]"
      ]
     },
     "execution_count": 9,
     "metadata": {},
     "output_type": "execute_result"
    }
   ],
   "source": [
    "t = (1, 2, 3)\n",
    "list(t)"
   ]
  },
  {
   "cell_type": "code",
   "execution_count": 7,
   "id": "00ad00b0",
   "metadata": {},
   "outputs": [
    {
     "data": {
      "text/plain": [
       "[True, False, True]"
      ]
     },
     "execution_count": 7,
     "metadata": {},
     "output_type": "execute_result"
    }
   ],
   "source": [
    "# Q1\n",
    "lst1_in_notebook = [10, 30, 20]\n",
    "lst2_in_notebook = [10, 40, 20]\n",
    "a5instructor.compute_matching(lst1_in_notebook, lst2_in_notebook)"
   ]
  },
  {
   "cell_type": "code",
   "execution_count": 8,
   "id": "d4695fad",
   "metadata": {},
   "outputs": [
    {
     "data": {
      "text/plain": [
       "[0, 2]"
      ]
     },
     "execution_count": 8,
     "metadata": {},
     "output_type": "execute_result"
    }
   ],
   "source": [
    "# q2\n",
    "a5instructor.compute_matching_indices(lst1_in_notebook, lst2_in_notebook)"
   ]
  },
  {
   "cell_type": "code",
   "execution_count": 11,
   "id": "2e38cfef",
   "metadata": {},
   "outputs": [
    {
     "data": {
      "text/plain": [
       "'Chicago'"
      ]
     },
     "execution_count": 11,
     "metadata": {},
     "output_type": "execute_result"
    }
   ],
   "source": [
    "# Q3\n",
    "data = [[\"20081114\", \"Chicago\", \"50.1\", \"30.0\", \"35.7\"],\n",
    "        [\"20081114\", \"Detroit\", \"45.2\", \"30.3\", \"33.4\"]]\n",
    "\n",
    "a5instructor.lowest_temperature(data, \"20081114\")\n"
   ]
  },
  {
   "cell_type": "code",
   "execution_count": 17,
   "id": "775ba4a1",
   "metadata": {},
   "outputs": [
    {
     "data": {
      "text/plain": [
       "63.093"
      ]
     },
     "execution_count": 17,
     "metadata": {},
     "output_type": "execute_result"
    }
   ],
   "source": [
    "# Q4 \n",
    "a5instructor.compute_simulated_average()"
   ]
  },
  {
   "cell_type": "markdown",
   "id": "21729117",
   "metadata": {},
   "source": [
    "## Errors"
   ]
  },
  {
   "cell_type": "code",
   "execution_count": 19,
   "id": "b2713450",
   "metadata": {},
   "outputs": [
    {
     "ename": "Exception",
     "evalue": "This is an error message!",
     "output_type": "error",
     "traceback": [
      "\u001b[0;31m---------------------------------------------------------------------------\u001b[0m",
      "\u001b[0;31mException\u001b[0m                                 Traceback (most recent call last)",
      "Cell \u001b[0;32mIn[19], line 10\u001b[0m\n\u001b[1;32m      7\u001b[0m \u001b[38;5;28;01mdef\u001b[39;00m \u001b[38;5;21mtest_3\u001b[39m():\n\u001b[1;32m      8\u001b[0m     \u001b[38;5;28;01mraise\u001b[39;00m \u001b[38;5;167;01mException\u001b[39;00m(\u001b[38;5;124m\"\u001b[39m\u001b[38;5;124mThis is an error message!\u001b[39m\u001b[38;5;124m\"\u001b[39m)\n\u001b[0;32m---> 10\u001b[0m test_1()\n",
      "Cell \u001b[0;32mIn[19], line 2\u001b[0m, in \u001b[0;36mtest_1\u001b[0;34m()\u001b[0m\n\u001b[1;32m      1\u001b[0m \u001b[38;5;28;01mdef\u001b[39;00m \u001b[38;5;21mtest_1\u001b[39m():\n\u001b[0;32m----> 2\u001b[0m     test_2()\n",
      "Cell \u001b[0;32mIn[19], line 5\u001b[0m, in \u001b[0;36mtest_2\u001b[0;34m()\u001b[0m\n\u001b[1;32m      4\u001b[0m \u001b[38;5;28;01mdef\u001b[39;00m \u001b[38;5;21mtest_2\u001b[39m():\n\u001b[0;32m----> 5\u001b[0m     test_3()\n",
      "Cell \u001b[0;32mIn[19], line 8\u001b[0m, in \u001b[0;36mtest_3\u001b[0;34m()\u001b[0m\n\u001b[1;32m      7\u001b[0m \u001b[38;5;28;01mdef\u001b[39;00m \u001b[38;5;21mtest_3\u001b[39m():\n\u001b[0;32m----> 8\u001b[0m     \u001b[38;5;28;01mraise\u001b[39;00m \u001b[38;5;167;01mException\u001b[39;00m(\u001b[38;5;124m\"\u001b[39m\u001b[38;5;124mThis is an error message!\u001b[39m\u001b[38;5;124m\"\u001b[39m)\n",
      "\u001b[0;31mException\u001b[0m: This is an error message!"
     ]
    }
   ],
   "source": [
    "def test_1():\n",
    "    test_2()\n",
    "\n",
    "def test_2():\n",
    "    test_3()\n",
    "\n",
    "def test_3():\n",
    "    raise Exception(\"This is an error message!\")\n",
    "\n",
    "test_1()"
   ]
  },
  {
   "cell_type": "code",
   "execution_count": 21,
   "id": "52a3079e",
   "metadata": {},
   "outputs": [
    {
     "ename": "AssertionError",
     "evalue": "b is not less than a",
     "output_type": "error",
     "traceback": [
      "\u001b[0;31m---------------------------------------------------------------------------\u001b[0m",
      "\u001b[0;31mAssertionError\u001b[0m                            Traceback (most recent call last)",
      "Cell \u001b[0;32mIn[21], line 6\u001b[0m\n\u001b[1;32m      3\u001b[0m b \u001b[38;5;241m=\u001b[39m \u001b[38;5;241m2\u001b[39m\n\u001b[1;32m      5\u001b[0m \u001b[38;5;28;01massert\u001b[39;00m b \u001b[38;5;241m>\u001b[39m a, \u001b[38;5;124m'\u001b[39m\u001b[38;5;124mb is not greater than a\u001b[39m\u001b[38;5;124m'\u001b[39m\n\u001b[0;32m----> 6\u001b[0m \u001b[38;5;28;01massert\u001b[39;00m b \u001b[38;5;241m<\u001b[39m a, \u001b[38;5;124m'\u001b[39m\u001b[38;5;124mb is not less than a\u001b[39m\u001b[38;5;124m'\u001b[39m\n",
      "\u001b[0;31mAssertionError\u001b[0m: b is not less than a"
     ]
    }
   ],
   "source": [
    "# error-less debugging \n",
    "a = 1\n",
    "b = 2\n",
    "\n",
    "assert b > a, 'b is not greater than a'\n",
    "assert b < a, 'b is not less than a'"
   ]
  },
  {
   "cell_type": "code",
   "execution_count": 22,
   "id": "7d5201e8",
   "metadata": {},
   "outputs": [
    {
     "name": "stdout",
     "output_type": "stream",
     "text": [
      "\u001b[1m============================= test session starts ==============================\u001b[0m\n",
      "platform linux -- Python 3.11.7, pytest-7.4.0, pluggy-1.0.0 -- /home/jclindaniel/anaconda3/bin/python\n",
      "cachedir: .pytest_cache\n",
      "rootdir: /home/jclindaniel/courses/macs30120/course-materials/06-testing\n",
      "plugins: anyio-4.2.0\n",
      "collected 3 items                                                              \u001b[0m\n",
      "\n",
      "test_sample.py::test_answer \u001b[32mPASSED\u001b[0m\u001b[32m                                       [ 33%]\u001b[0m\n",
      "test_sample.py::test_answer2 \u001b[32mPASSED\u001b[0m\u001b[32m                                      [ 66%]\u001b[0m\n",
      "test_sample.py::test_answer3 \u001b[31mFAILED\u001b[0m\u001b[31m                                      [100%]\u001b[0m\n",
      "\n",
      "=================================== FAILURES ===================================\n",
      "\u001b[31m\u001b[1m_________________________________ test_answer3 _________________________________\u001b[0m\n",
      "\n",
      "    \u001b[94mdef\u001b[39;49;00m \u001b[92mtest_answer3\u001b[39;49;00m():\u001b[90m\u001b[39;49;00m\n",
      ">       \u001b[94massert\u001b[39;49;00m sample.func(\u001b[94m5\u001b[39;49;00m) == \u001b[94m10\u001b[39;49;00m, \u001b[33m\"\u001b[39;49;00m\u001b[33mFake test (should equal 10)\u001b[39;49;00m\u001b[33m\"\u001b[39;49;00m\u001b[90m\u001b[39;49;00m\n",
      "\u001b[1m\u001b[31mE       AssertionError: Fake test (should equal 10)\u001b[0m\n",
      "\u001b[1m\u001b[31mE       assert 6 == 10\u001b[0m\n",
      "\u001b[1m\u001b[31mE        +  where 6 = <function func at 0x788430178220>(5)\u001b[0m\n",
      "\u001b[1m\u001b[31mE        +    where <function func at 0x788430178220> = sample.func\u001b[0m\n",
      "\n",
      "\u001b[1m\u001b[31mtest_sample.py\u001b[0m:10: AssertionError\n",
      "\u001b[36m\u001b[1m=========================== short test summary info ============================\u001b[0m\n",
      "\u001b[31mFAILED\u001b[0m test_sample.py::\u001b[1mtest_answer3\u001b[0m - AssertionError: Fake test (should equal 10)\n",
      "\u001b[31m========================= \u001b[31m\u001b[1m1 failed\u001b[0m, \u001b[32m2 passed\u001b[0m\u001b[31m in 0.05s\u001b[0m\u001b[31m ==========================\u001b[0m\n"
     ]
    }
   ],
   "source": [
    "! pytest -v"
   ]
  },
  {
   "cell_type": "code",
   "execution_count": 23,
   "id": "44cd5b4c",
   "metadata": {},
   "outputs": [
    {
     "name": "stdout",
     "output_type": "stream",
     "text": [
      "\u001b[1m============================= test session starts ==============================\u001b[0m\n",
      "platform linux -- Python 3.11.7, pytest-7.4.0, pluggy-1.0.0 -- /home/jclindaniel/anaconda3/bin/python\n",
      "cachedir: .pytest_cache\n",
      "rootdir: /home/jclindaniel/courses/macs30120/course-materials/06-testing\n",
      "plugins: anyio-4.2.0\n",
      "collected 3 items / 2 deselected / 1 selected                                  \u001b[0m\n",
      "\n",
      "test_sample.py::test_answer2 \u001b[32mPASSED\u001b[0m\u001b[32m                                      [100%]\u001b[0m\n",
      "\n",
      "\u001b[32m======================= \u001b[32m\u001b[1m1 passed\u001b[0m, \u001b[33m2 deselected\u001b[0m\u001b[32m in 0.01s\u001b[0m\u001b[32m ========================\u001b[0m\n"
     ]
    }
   ],
   "source": [
    "! pytest -vk test_answer2"
   ]
  }
 ],
 "metadata": {
  "kernelspec": {
   "display_name": "base",
   "language": "python",
   "name": "python3"
  },
  "language_info": {
   "codemirror_mode": {
    "name": "ipython",
    "version": 3
   },
   "file_extension": ".py",
   "mimetype": "text/x-python",
   "name": "python",
   "nbconvert_exporter": "python",
   "pygments_lexer": "ipython3",
   "version": "3.11.7"
  }
 },
 "nbformat": 4,
 "nbformat_minor": 5
}
