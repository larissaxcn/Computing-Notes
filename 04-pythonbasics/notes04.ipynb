{
 "cells": [
  {
   "cell_type": "markdown",
   "id": "9cd152b8",
   "metadata": {},
   "source": [
    "# For Loop\n",
    "- execute a block of code a specific number of times"
   ]
  },
  {
   "cell_type": "code",
   "execution_count": 8,
   "id": "51e8769e",
   "metadata": {},
   "outputs": [
    {
     "name": "stdout",
     "output_type": "stream",
     "text": [
      "0\n",
      "1\n",
      "2\n",
      "3\n",
      "4\n"
     ]
    }
   ],
   "source": [
    "# (0,5)\n",
    "for i in range (5):\n",
    "    print(i)\n"
   ]
  },
  {
   "cell_type": "markdown",
   "id": "0813c852",
   "metadata": {},
   "source": [
    "# While loop\n",
    "- repeat somehting until a boolean expression evaluates to False\n",
    "- A while loop is used when the number of iterations is not known beforehand, and the loop continues to execute as long as a specified condition remains true. The loop terminates when the condition becomes false."
   ]
  },
  {
   "cell_type": "code",
   "execution_count": 98,
   "id": "4428c116",
   "metadata": {},
   "outputs": [
    {
     "name": "stdout",
     "output_type": "stream",
     "text": [
      "0\n",
      "1\n",
      "2\n",
      "3\n",
      "4\n"
     ]
    }
   ],
   "source": [
    "i=0\n",
    "while i<5:\n",
    "    print(i)\n",
    "    i=i+1 # without this step, generate lots of zero, nonstop\n",
    "# i +=1"
   ]
  },
  {
   "cell_type": "code",
   "execution_count": 104,
   "id": "028e24eb",
   "metadata": {},
   "outputs": [
    {
     "name": "stdout",
     "output_type": "stream",
     "text": [
      "1\n",
      "2\n",
      "3\n",
      "4\n",
      "5\n"
     ]
    }
   ],
   "source": [
    "i = 0\n",
    "while i < 5:\n",
    "    i += 1\n",
    "    print(i)\n",
    "    \n"
   ]
  },
  {
   "cell_type": "code",
   "execution_count": 105,
   "id": "39da41d0",
   "metadata": {},
   "outputs": [
    {
     "name": "stdout",
     "output_type": "stream",
     "text": [
      "0\n",
      "1\n",
      "2\n",
      "3\n",
      "4\n"
     ]
    }
   ],
   "source": [
    "i = 0\n",
    "while i < 5:\n",
    "    print(i)\n",
    "    i += 1"
   ]
  },
  {
   "cell_type": "markdown",
   "id": "170a92eb",
   "metadata": {},
   "source": [
    "# why do we need i=0 before the loop？\n",
    "- The line i = 0 initializes the variable i before the loop starts. \n",
    "- This is essential because: The while loop checks the condition i < 5 before every iteration. If i isn’t defined before the loop starts, Python will throw a NameError, because it doesn’t know what i is.\n"
   ]
  },
  {
   "cell_type": "markdown",
   "id": "f60e5949",
   "metadata": {},
   "source": [
    "## why do we need i=i+1 or i += 1？\n",
    "- i += 1 (or i = i + 1) ensures the loop progresses and eventually ends.\n",
    "- This increments i by 1 on each loop iteration, so the loop will eventually stop.\n",
    "- Without this line, the condition i < 5 would always be true, causing an infinite loop.\n",
    "- Without either, the loop either won’t start (i not defined) or never ends (i never changes)."
   ]
  },
  {
   "cell_type": "markdown",
   "id": "e12ac459",
   "metadata": {},
   "source": [
    "# Decision Strctures"
   ]
  },
  {
   "cell_type": "code",
   "execution_count": 10,
   "id": "8796ca11",
   "metadata": {},
   "outputs": [
    {
     "name": "stdout",
     "output_type": "stream",
     "text": [
      "2\n"
     ]
    }
   ],
   "source": [
    "for i in range(5):\n",
    "    if i==2:\n",
    "        print(i)"
   ]
  },
  {
   "cell_type": "code",
   "execution_count": null,
   "id": "60f9bb7b",
   "metadata": {},
   "outputs": [
    {
     "name": "stdout",
     "output_type": "stream",
     "text": [
      "0\n",
      "4\n",
      "8\n",
      "12\n",
      "16\n",
      "20\n",
      "24\n",
      "28\n",
      "32\n",
      "36\n",
      "40\n",
      "44\n",
      "48\n",
      "52\n",
      "56\n",
      "60\n",
      "64\n",
      "68\n",
      "72\n",
      "76\n",
      "80\n",
      "84\n",
      "88\n",
      "92\n",
      "96\n",
      "104\n",
      "108\n",
      "112\n",
      "116\n",
      "120\n",
      "124\n",
      "128\n",
      "132\n",
      "136\n",
      "140\n",
      "144\n",
      "148\n",
      "152\n",
      "156\n",
      "160\n",
      "164\n",
      "168\n",
      "172\n",
      "176\n",
      "180\n",
      "184\n",
      "188\n",
      "192\n",
      "196\n",
      "204\n",
      "208\n",
      "212\n",
      "216\n",
      "220\n",
      "224\n",
      "228\n",
      "232\n",
      "236\n",
      "240\n",
      "244\n",
      "248\n",
      "252\n",
      "256\n",
      "260\n",
      "264\n",
      "268\n",
      "272\n",
      "276\n",
      "280\n",
      "284\n",
      "288\n",
      "292\n",
      "296\n",
      "304\n",
      "308\n",
      "312\n",
      "316\n",
      "320\n",
      "324\n",
      "328\n",
      "332\n",
      "336\n",
      "340\n",
      "344\n",
      "348\n",
      "352\n",
      "356\n",
      "360\n",
      "364\n",
      "368\n",
      "372\n",
      "376\n",
      "380\n",
      "384\n",
      "388\n",
      "392\n",
      "396\n",
      "400\n",
      "404\n",
      "408\n",
      "412\n",
      "416\n",
      "420\n",
      "424\n",
      "428\n",
      "432\n",
      "436\n",
      "440\n",
      "444\n",
      "448\n",
      "452\n",
      "456\n",
      "460\n",
      "464\n",
      "468\n",
      "472\n",
      "476\n",
      "480\n",
      "484\n",
      "488\n",
      "492\n",
      "496\n",
      "504\n",
      "508\n",
      "512\n",
      "516\n",
      "520\n",
      "524\n",
      "528\n",
      "532\n",
      "536\n",
      "540\n",
      "544\n",
      "548\n",
      "552\n",
      "556\n",
      "560\n",
      "564\n",
      "568\n",
      "572\n",
      "576\n",
      "580\n",
      "584\n",
      "588\n",
      "592\n",
      "596\n",
      "604\n",
      "608\n",
      "612\n",
      "616\n",
      "620\n",
      "624\n",
      "628\n",
      "632\n",
      "636\n",
      "640\n",
      "644\n",
      "648\n",
      "652\n",
      "656\n",
      "660\n",
      "664\n",
      "668\n",
      "672\n",
      "676\n",
      "680\n",
      "684\n",
      "688\n",
      "692\n",
      "696\n",
      "704\n",
      "708\n",
      "712\n",
      "716\n",
      "720\n",
      "724\n",
      "728\n",
      "732\n",
      "736\n",
      "740\n",
      "744\n",
      "748\n",
      "752\n",
      "756\n",
      "760\n",
      "764\n",
      "768\n",
      "772\n",
      "776\n",
      "780\n",
      "784\n",
      "788\n",
      "792\n",
      "796\n",
      "800\n",
      "804\n",
      "808\n",
      "812\n",
      "816\n",
      "820\n",
      "824\n",
      "828\n",
      "832\n",
      "836\n",
      "840\n",
      "844\n",
      "848\n",
      "852\n",
      "856\n",
      "860\n",
      "864\n",
      "868\n",
      "872\n",
      "876\n",
      "880\n",
      "884\n",
      "888\n",
      "892\n",
      "896\n",
      "904\n",
      "908\n",
      "912\n",
      "916\n",
      "920\n",
      "924\n",
      "928\n",
      "932\n",
      "936\n",
      "940\n",
      "944\n",
      "948\n",
      "952\n",
      "956\n",
      "960\n",
      "964\n",
      "968\n",
      "972\n",
      "976\n",
      "980\n",
      "984\n",
      "988\n",
      "992\n",
      "996\n",
      "1004\n",
      "1008\n",
      "1012\n",
      "1016\n",
      "1020\n",
      "1024\n",
      "1028\n",
      "1032\n",
      "1036\n",
      "1040\n",
      "1044\n",
      "1048\n",
      "1052\n",
      "1056\n",
      "1060\n",
      "1064\n",
      "1068\n",
      "1072\n",
      "1076\n",
      "1080\n",
      "1084\n",
      "1088\n",
      "1092\n",
      "1096\n",
      "1104\n",
      "1108\n",
      "1112\n",
      "1116\n",
      "1120\n",
      "1124\n",
      "1128\n",
      "1132\n",
      "1136\n",
      "1140\n",
      "1144\n",
      "1148\n",
      "1152\n",
      "1156\n",
      "1160\n",
      "1164\n",
      "1168\n",
      "1172\n",
      "1176\n",
      "1180\n",
      "1184\n",
      "1188\n",
      "1192\n",
      "1196\n",
      "1200\n",
      "1204\n",
      "1208\n",
      "1212\n",
      "1216\n",
      "1220\n",
      "1224\n",
      "1228\n",
      "1232\n",
      "1236\n",
      "1240\n",
      "1244\n",
      "1248\n",
      "1252\n",
      "1256\n",
      "1260\n",
      "1264\n",
      "1268\n",
      "1272\n",
      "1276\n",
      "1280\n",
      "1284\n",
      "1288\n",
      "1292\n",
      "1296\n",
      "1304\n",
      "1308\n",
      "1312\n",
      "1316\n",
      "1320\n",
      "1324\n",
      "1328\n",
      "1332\n",
      "1336\n",
      "1340\n",
      "1344\n",
      "1348\n",
      "1352\n",
      "1356\n",
      "1360\n",
      "1364\n",
      "1368\n",
      "1372\n",
      "1376\n",
      "1380\n",
      "1384\n",
      "1388\n",
      "1392\n",
      "1396\n",
      "1404\n",
      "1408\n",
      "1412\n",
      "1416\n",
      "1420\n",
      "1424\n",
      "1428\n",
      "1432\n",
      "1436\n",
      "1440\n",
      "1444\n",
      "1448\n",
      "1452\n",
      "1456\n",
      "1460\n",
      "1464\n",
      "1468\n",
      "1472\n",
      "1476\n",
      "1480\n",
      "1484\n",
      "1488\n",
      "1492\n",
      "1496\n",
      "1504\n",
      "1508\n",
      "1512\n",
      "1516\n",
      "1520\n",
      "1524\n",
      "1528\n",
      "1532\n",
      "1536\n",
      "1540\n",
      "1544\n",
      "1548\n",
      "1552\n",
      "1556\n",
      "1560\n",
      "1564\n",
      "1568\n",
      "1572\n",
      "1576\n",
      "1580\n",
      "1584\n",
      "1588\n",
      "1592\n",
      "1596\n",
      "1600\n",
      "1604\n",
      "1608\n",
      "1612\n",
      "1616\n",
      "1620\n",
      "1624\n",
      "1628\n",
      "1632\n",
      "1636\n",
      "1640\n",
      "1644\n",
      "1648\n",
      "1652\n",
      "1656\n",
      "1660\n",
      "1664\n",
      "1668\n",
      "1672\n",
      "1676\n",
      "1680\n",
      "1684\n",
      "1688\n",
      "1692\n",
      "1696\n",
      "1704\n",
      "1708\n",
      "1712\n",
      "1716\n",
      "1720\n",
      "1724\n",
      "1728\n",
      "1732\n",
      "1736\n",
      "1740\n",
      "1744\n",
      "1748\n",
      "1752\n",
      "1756\n",
      "1760\n",
      "1764\n",
      "1768\n",
      "1772\n",
      "1776\n",
      "1780\n",
      "1784\n",
      "1788\n",
      "1792\n",
      "1796\n",
      "1804\n",
      "1808\n",
      "1812\n",
      "1816\n",
      "1820\n",
      "1824\n",
      "1828\n",
      "1832\n",
      "1836\n",
      "1840\n",
      "1844\n",
      "1848\n",
      "1852\n",
      "1856\n",
      "1860\n",
      "1864\n",
      "1868\n",
      "1872\n",
      "1876\n",
      "1880\n",
      "1884\n",
      "1888\n",
      "1892\n",
      "1896\n",
      "1904\n",
      "1908\n",
      "1912\n",
      "1916\n",
      "1920\n",
      "1924\n",
      "1928\n",
      "1932\n",
      "1936\n",
      "1940\n",
      "1944\n",
      "1948\n",
      "1952\n",
      "1956\n",
      "1960\n",
      "1964\n",
      "1968\n",
      "1972\n",
      "1976\n",
      "1980\n",
      "1984\n",
      "1988\n",
      "1992\n",
      "1996\n",
      "2000\n",
      "2004\n",
      "2008\n",
      "2012\n",
      "2016\n",
      "2020\n",
      "2024\n"
     ]
    }
   ],
   "source": [
    "for i in range(2026):\n",
    "    if ((i%4==0) and (i%100 !=0)) or (i%400 ==0):\n",
    "        # （(i%4==0) and (i%100 !=0)) or (i%400 ==0)\n",
    "        # this is a boolean statement\n",
    "        print(i)"
   ]
  },
  {
   "cell_type": "markdown",
   "id": "577e7d11",
   "metadata": {},
   "source": [
    "# Range [1900, 2026)\n",
    "- for i in range(1900, 2026)\n",
    "- restrict the range\n",
    "- if i want to include 2026, need to add 1, it will be (1900, 2027) ~ [1900, 2026]\n",
    "- range(5) = [0,4]: 0,1,2,3,4"
   ]
  },
  {
   "cell_type": "markdown",
   "id": "f7629bf1",
   "metadata": {},
   "source": [
    "- range(a,b) -> [a,b)"
   ]
  },
  {
   "cell_type": "code",
   "execution_count": 13,
   "id": "acf572ea",
   "metadata": {},
   "outputs": [
    {
     "name": "stdout",
     "output_type": "stream",
     "text": [
      "31\n"
     ]
    }
   ],
   "source": [
    "count=0\n",
    "for i in range(1900, 2026):\n",
    "    if ((i%4==0) and (i%100 !=0)) or (i%400 ==0):\n",
    "        count +=1 # count = count+1\n",
    "\n",
    "print(count)"
   ]
  },
  {
   "cell_type": "markdown",
   "id": "08629a03",
   "metadata": {},
   "source": []
  },
  {
   "cell_type": "markdown",
   "id": "7b5c7d4a",
   "metadata": {},
   "source": [
    "# if/elif/else"
   ]
  },
  {
   "cell_type": "code",
   "execution_count": 15,
   "id": "f3c20cbe",
   "metadata": {},
   "outputs": [
    {
     "name": "stdout",
     "output_type": "stream",
     "text": [
      "0 less than two\n",
      "1 less than two\n",
      "2\n",
      "3 greater than two\n",
      "4 greater than two\n"
     ]
    }
   ],
   "source": [
    "for i in range(5): \n",
    "    if i==2:\n",
    "        print(i)\n",
    "    elif i>2:\n",
    "        print(i, \"greater than two\")\n",
    "    else:\n",
    "        print(i, \"less than two\")\n",
    " # if elif else: also take boolean expression\n",
    " # i=1; go through if,elif,else\n",
    " # i=2; go through if,elif,else\n"
   ]
  },
  {
   "cell_type": "markdown",
   "id": "8921c47a",
   "metadata": {},
   "source": [
    "## Data Strucutres\n",
    "list (ordered structures)"
   ]
  },
  {
   "cell_type": "code",
   "execution_count": 21,
   "id": "c522e148",
   "metadata": {},
   "outputs": [],
   "source": [
    "colors=[\"pink\",\"yellow\",\"green\"]\n",
    "\n",
    "m=[[1,2,3,4],\n",
    "  [5,6,7,8],\n",
    "  [9,10,11,12]]"
   ]
  },
  {
   "cell_type": "code",
   "execution_count": null,
   "id": "3d7a1b81",
   "metadata": {},
   "outputs": [
    {
     "data": {
      "text/plain": [
       "['pink', 'yellow', 'green', 'blue', 'blue']"
      ]
     },
     "execution_count": 23,
     "metadata": {},
     "output_type": "execute_result"
    }
   ],
   "source": [
    "colors.append(\"blue\") \n",
    "# adds a single element to the end of the list—regardless of the element’s type.\n",
    "colors"
   ]
  },
  {
   "cell_type": "markdown",
   "id": "0e9ff768",
   "metadata": {},
   "source": [
    "- remove something from the list"
   ]
  },
  {
   "cell_type": "code",
   "execution_count": 25,
   "id": "3efb75af",
   "metadata": {},
   "outputs": [
    {
     "data": {
      "text/plain": [
       "['pink', 'yellow', 'green', 'blue']"
      ]
     },
     "execution_count": 25,
     "metadata": {},
     "output_type": "execute_result"
    }
   ],
   "source": [
    "colors.remove(\"blue\")\n",
    "colors"
   ]
  },
  {
   "cell_type": "markdown",
   "id": "e09f7bf8",
   "metadata": {},
   "source": [
    "- add something into the list"
   ]
  },
  {
   "cell_type": "code",
   "execution_count": null,
   "id": "ede5f855",
   "metadata": {},
   "outputs": [
    {
     "data": {
      "text/plain": [
       "['pink', 'yellow', 'green', 'blue', 'purple', 'aqua']"
      ]
     },
     "execution_count": 26,
     "metadata": {},
     "output_type": "execute_result"
    }
   ],
   "source": [
    "colors.extend([\"purple\",\"aqua\"])\n",
    "# Takes an iterable (like a list, tuple, set, or string) \n",
    "# and adds each of its elements individually to the list.\n",
    "colors"
   ]
  },
  {
   "cell_type": "markdown",
   "id": "96ec39c8",
   "metadata": {},
   "source": [
    "# append and extend\n",
    "**append**\n",
    "- Adds one item (even if it's a list)\n",
    "- Nested lists if you pass a list\n",
    "- good for single element\n",
    "\n",
    "**extend**\n",
    "- Iterates through an iterable, adding items individually\n",
    "- Flattens the iterable into the list\n",
    "- Merging or concatenating iterables"
   ]
  },
  {
   "cell_type": "code",
   "execution_count": null,
   "id": "21a68b4e",
   "metadata": {},
   "outputs": [],
   "source": [
    "# append\n",
    "a = [1, 2, 3]\n",
    "a.append(4)\n",
    "# Result: [1, 2, 3, 4]\n",
    "\n",
    "a.append([5, 6])\n",
    "# Result: [1, 2, 3, 4, [5, 6]]\n",
    "\n",
    "# extend\n",
    "a = [1, 2, 3]\n",
    "a.extend([5, 6])\n",
    "# Result: [1, 2, 3, 5, 6]\n",
    "\n",
    "a.extend(\"hi\")\n",
    "# Result: [1, 2, 3, 5, 6, 'h', 'i']\n"
   ]
  },
  {
   "cell_type": "markdown",
   "id": "2f5f2e89",
   "metadata": {},
   "source": [
    "- check if something is in a list"
   ]
  },
  {
   "cell_type": "code",
   "execution_count": null,
   "id": "02b20467",
   "metadata": {},
   "outputs": [
    {
     "name": "stdout",
     "output_type": "stream",
     "text": [
      "True\n"
     ]
    }
   ],
   "source": [
    "print(\"yellow\" in colors)\n",
    "# print boolean statement\n",
    "# see if \"yellow\" is in colors"
   ]
  },
  {
   "cell_type": "markdown",
   "id": "725257ff",
   "metadata": {},
   "source": [
    "- check the length of a list"
   ]
  },
  {
   "cell_type": "code",
   "execution_count": 29,
   "id": "9478698b",
   "metadata": {},
   "outputs": [
    {
     "data": {
      "text/plain": [
       "6"
      ]
     },
     "execution_count": 29,
     "metadata": {},
     "output_type": "execute_result"
    }
   ],
   "source": [
    "len(colors)\n",
    "# check the length of a list"
   ]
  },
  {
   "cell_type": "markdown",
   "id": "389fc8e2",
   "metadata": {},
   "source": [
    "**Add something to each item in the list**"
   ]
  },
  {
   "cell_type": "code",
   "execution_count": 30,
   "id": "f72625a6",
   "metadata": {},
   "outputs": [
    {
     "name": "stdout",
     "output_type": "stream",
     "text": [
      "pinks\n",
      "yellows\n",
      "greens\n",
      "blues\n",
      "purples\n",
      "aquas\n"
     ]
    }
   ],
   "source": [
    "for i in colors:\n",
    "    print(i+ \"s\")"
   ]
  },
  {
   "cell_type": "code",
   "execution_count": 34,
   "id": "bc7995bd",
   "metadata": {},
   "outputs": [
    {
     "data": {
      "text/plain": [
       "['pinks', 'yellows', 'greens', 'blues', 'purples', 'aquas']"
      ]
     },
     "execution_count": 34,
     "metadata": {},
     "output_type": "execute_result"
    }
   ],
   "source": [
    "[i + \"s\" for i in colors]"
   ]
  },
  {
   "cell_type": "code",
   "execution_count": 35,
   "id": "144f0311",
   "metadata": {},
   "outputs": [
    {
     "data": {
      "text/plain": [
       "['yellows']"
      ]
     },
     "execution_count": 35,
     "metadata": {},
     "output_type": "execute_result"
    }
   ],
   "source": [
    "[i + \"s\" for i in colors if \"yellow\" == i] # list comprehension"
   ]
  },
  {
   "cell_type": "markdown",
   "id": "879177d1",
   "metadata": {},
   "source": [
    "- represent matrices"
   ]
  },
  {
   "cell_type": "code",
   "execution_count": 33,
   "id": "72cfbd63",
   "metadata": {},
   "outputs": [
    {
     "name": "stdout",
     "output_type": "stream",
     "text": [
      "[1, 2, 3, 4] 1\n",
      "1 False\n",
      "[1, 2, 3, 4] 2\n",
      "2 False\n",
      "[1, 2, 3, 4] 3\n",
      "3 False\n",
      "[1, 2, 3, 4] 4\n",
      "4 False\n",
      "[5, 6, 7, 8] 5\n",
      "5 True\n",
      "[5, 6, 7, 8] 6\n",
      "6 True\n",
      "[5, 6, 7, 8] 7\n",
      "7 True\n",
      "[5, 6, 7, 8] 8\n",
      "8 True\n",
      "[9, 10, 11, 12] 9\n",
      "9 True\n",
      "[9, 10, 11, 12] 10\n",
      "10 True\n",
      "[9, 10, 11, 12] 11\n",
      "11 True\n",
      "[9, 10, 11, 12] 12\n",
      "12 True\n"
     ]
    }
   ],
   "source": [
    "for i in m:\n",
    "     for j in i:\n",
    "          print(i,j)\n",
    "          print(j, j>4)"
   ]
  },
  {
   "cell_type": "markdown",
   "id": "285bae64",
   "metadata": {},
   "source": [
    "- pull out nth item out of the list; 倒数几个，前几个"
   ]
  },
  {
   "cell_type": "code",
   "execution_count": 37,
   "id": "61efb2e0",
   "metadata": {},
   "outputs": [
    {
     "data": {
      "text/plain": [
       "['pink', 'yellow', 'green', 'blue', 'purple', 'aqua']"
      ]
     },
     "execution_count": 37,
     "metadata": {},
     "output_type": "execute_result"
    }
   ],
   "source": [
    "colors"
   ]
  },
  {
   "cell_type": "code",
   "execution_count": 38,
   "id": "e4724aad",
   "metadata": {},
   "outputs": [
    {
     "data": {
      "text/plain": [
       "'pink'"
      ]
     },
     "execution_count": 38,
     "metadata": {},
     "output_type": "execute_result"
    }
   ],
   "source": [
    "colors[0]"
   ]
  },
  {
   "cell_type": "code",
   "execution_count": null,
   "id": "12477b3a",
   "metadata": {},
   "outputs": [
    {
     "data": {
      "text/plain": [
       "['pink', 'yellow']"
      ]
     },
     "execution_count": 39,
     "metadata": {},
     "output_type": "execute_result"
    }
   ],
   "source": [
    "colors[:2]\n",
    "# 0 inclusive, 2 exclusive"
   ]
  },
  {
   "cell_type": "code",
   "execution_count": 40,
   "id": "12657118",
   "metadata": {},
   "outputs": [
    {
     "data": {
      "text/plain": [
       "['blue', 'purple', 'aqua']"
      ]
     },
     "execution_count": 40,
     "metadata": {},
     "output_type": "execute_result"
    }
   ],
   "source": [
    "# get everything after the 3rd thing\n",
    "colors[3:]"
   ]
  },
  {
   "cell_type": "code",
   "execution_count": 41,
   "id": "d24d7e3c",
   "metadata": {},
   "outputs": [
    {
     "data": {
      "text/plain": [
       "'purple'"
      ]
     },
     "execution_count": 41,
     "metadata": {},
     "output_type": "execute_result"
    }
   ],
   "source": [
    "colors[-2]\n",
    "# second from the last"
   ]
  },
  {
   "cell_type": "markdown",
   "id": "90ad5e14",
   "metadata": {},
   "source": [
    "- Ex. pull out CNETID; email address"
   ]
  },
  {
   "cell_type": "code",
   "execution_count": 47,
   "id": "d8a11d7b",
   "metadata": {},
   "outputs": [
    {
     "data": {
      "text/plain": [
       "['lxu01', 'lxu01', 'lxu01']"
      ]
     },
     "execution_count": 47,
     "metadata": {},
     "output_type": "execute_result"
    }
   ],
   "source": [
    "email=\"lxu01@uchicago.edu\"\n",
    "email[:-13] # get everything before that position\n",
    "# @uchicago.edu = 13 letters\n",
    "lst_of_emails = [\"lxu01@uchicago.edu\",\"lxu01@uchicago.edu\",\"lxu01@uchicago.edu\"]\n",
    "cnet_lst =[i[:-13] for i in lst_of_emails]\n",
    "cnet_lst"
   ]
  },
  {
   "cell_type": "code",
   "execution_count": null,
   "id": "65e9aa5b",
   "metadata": {},
   "outputs": [
    {
     "data": {
      "text/plain": [
       "'lxu01'"
      ]
     },
     "execution_count": 52,
     "metadata": {},
     "output_type": "execute_result"
    }
   ],
   "source": [
    "email.replace(\"@uchicago.edu\",\"\")\n",
    "# replace(old, new) returns a new string where all occurrences of old are replaced with new."
   ]
  },
  {
   "cell_type": "code",
   "execution_count": null,
   "id": "2546e855",
   "metadata": {},
   "outputs": [
    {
     "name": "stdout",
     "output_type": "stream",
     "text": [
      "1\n"
     ]
    }
   ],
   "source": [
    "s=\"This is a sample sentence\"\n",
    "tokens = s.lower().split()\n",
    "# lower case and extract every single word in the sentence\n",
    "\n",
    "count =0 # do not know how many words that will meet the condition\n",
    "for t in tokens:\n",
    "    if \"sample\" ==t:\n",
    "        count +=1\n",
    "print(count)"
   ]
  },
  {
   "cell_type": "code",
   "execution_count": 57,
   "id": "ea952263",
   "metadata": {},
   "outputs": [
    {
     "name": "stdout",
     "output_type": "stream",
     "text": [
      "2\n"
     ]
    }
   ],
   "source": [
    "s=\"This is a sample sentence\"\n",
    "tokens = s.lower().split()\n",
    "# lower case and extract every single word in the sentence\n",
    "\n",
    "count=0\n",
    "target_words=['sample','test','sentence'] # either '' or \"\" are the same\n",
    "for t in tokens:\n",
    "    if t in target_words:\n",
    "        count +=1\n",
    "print(count)"
   ]
  },
  {
   "cell_type": "markdown",
   "id": "34b4da2b",
   "metadata": {},
   "source": [
    "# Tuples\n",
    "()"
   ]
  },
  {
   "cell_type": "markdown",
   "id": "a0ee1d5e",
   "metadata": {},
   "source": []
  },
  {
   "cell_type": "code",
   "execution_count": 58,
   "id": "5f216823",
   "metadata": {},
   "outputs": [
    {
     "name": "stdout",
     "output_type": "stream",
     "text": [
      "1 2\n"
     ]
    }
   ],
   "source": [
    "x, y = (1,2)\n",
    "print(x,y)\n",
    "# assign 1 to x, 2 to y\n",
    "# assign values to two variables at the same time\n",
    "# you print out anything with comma, you print out things with tuple"
   ]
  },
  {
   "cell_type": "code",
   "execution_count": 59,
   "id": "30047c5e",
   "metadata": {},
   "outputs": [
    {
     "name": "stdout",
     "output_type": "stream",
     "text": [
      "2 1\n"
     ]
    }
   ],
   "source": [
    "x,y = y,x\n",
    "print(x,y)"
   ]
  },
  {
   "cell_type": "markdown",
   "id": "048d6f99",
   "metadata": {},
   "source": [
    "## Dictionaries\n",
    "- {}\n",
    "- {key1:value1, key2:value2}\n",
    "- eys need to be unique within the dictionary; otherwise, overide each other;\n",
    "- allow you to do lookup in a database"
   ]
  },
  {
   "cell_type": "code",
   "execution_count": 61,
   "id": "340c9d36",
   "metadata": {},
   "outputs": [
    {
     "data": {
      "text/plain": [
       "dict"
      ]
     },
     "execution_count": 61,
     "metadata": {},
     "output_type": "execute_result"
    }
   ],
   "source": [
    "studentId={}\n",
    "type(studentId)"
   ]
  },
  {
   "cell_type": "code",
   "execution_count": 69,
   "id": "f453f6e4",
   "metadata": {},
   "outputs": [
    {
     "data": {
      "text/plain": [
       "351060"
      ]
     },
     "execution_count": 69,
     "metadata": {},
     "output_type": "execute_result"
    }
   ],
   "source": [
    "studentId={\"Joe\":351060, \"Bob\":12345}\n",
    "studentId[\"Joe\"]\n",
    "# run into problems when student Id not available\n"
   ]
  },
  {
   "cell_type": "code",
   "execution_count": 68,
   "id": "ebcc7566",
   "metadata": {},
   "outputs": [
    {
     "ename": "KeyError",
     "evalue": "'Steve'",
     "output_type": "error",
     "traceback": [
      "\u001b[0;31m---------------------------------------------------------------------------\u001b[0m",
      "\u001b[0;31mKeyError\u001b[0m                                  Traceback (most recent call last)",
      "Cell \u001b[0;32mIn[68], line 1\u001b[0m\n\u001b[0;32m----> 1\u001b[0m studentId[\u001b[38;5;124m\"\u001b[39m\u001b[38;5;124mSteve\u001b[39m\u001b[38;5;124m\"\u001b[39m]\n",
      "\u001b[0;31mKeyError\u001b[0m: 'Steve'"
     ]
    }
   ],
   "source": [
    "studentId[\"Steve\"]"
   ]
  },
  {
   "cell_type": "code",
   "execution_count": null,
   "id": "c2e2e50f",
   "metadata": {},
   "outputs": [
    {
     "data": {
      "text/plain": [
       "0"
      ]
     },
     "execution_count": 67,
     "metadata": {},
     "output_type": "execute_result"
    }
   ],
   "source": [
    "studentId.get(\"Steve\",0)\n",
    "# return the value for key if key is in the dictionary, else default\n",
    "# 0 is the default value that get() returns if the key \"Steve\" is not found in the dictionary"
   ]
  },
  {
   "cell_type": "code",
   "execution_count": 70,
   "id": "8f32cb7c",
   "metadata": {},
   "outputs": [
    {
     "data": {
      "text/plain": [
       "12345"
      ]
     },
     "execution_count": 70,
     "metadata": {},
     "output_type": "execute_result"
    }
   ],
   "source": [
    "studentId.get(\"Bob\",0)"
   ]
  },
  {
   "cell_type": "code",
   "execution_count": null,
   "id": "8a585e96",
   "metadata": {},
   "outputs": [
    {
     "ename": "NameError",
     "evalue": "name 'Bob' is not defined",
     "output_type": "error",
     "traceback": [
      "\u001b[0;31m---------------------------------------------------------------------------\u001b[0m",
      "\u001b[0;31mNameError\u001b[0m                                 Traceback (most recent call last)",
      "Cell \u001b[0;32mIn[71], line 1\u001b[0m\n\u001b[0;32m----> 1\u001b[0m Bob \u001b[38;5;129;01min\u001b[39;00m studentId\n",
      "\u001b[0;31mNameError\u001b[0m: name 'Bob' is not defined"
     ]
    }
   ],
   "source": [
    "Bob in studentId\n",
    "# \"\" needed"
   ]
  },
  {
   "cell_type": "code",
   "execution_count": null,
   "id": "e51a35ef",
   "metadata": {},
   "outputs": [
    {
     "data": {
      "text/plain": [
       "True"
      ]
     },
     "execution_count": 72,
     "metadata": {},
     "output_type": "execute_result"
    }
   ],
   "source": [
    "\"Bob\" in studentId"
   ]
  },
  {
   "cell_type": "code",
   "execution_count": 89,
   "id": "1b58da01",
   "metadata": {},
   "outputs": [
    {
     "data": {
      "text/plain": [
       "100"
      ]
     },
     "execution_count": 89,
     "metadata": {},
     "output_type": "execute_result"
    }
   ],
   "source": [
    "student_scores ={\"Bob\": [100,90], \"Steve\": [80,70]}\n",
    "student_scores.get(\"Bob\")\n",
    "student_scores.get(\"Bob\")[0]"
   ]
  },
  {
   "cell_type": "code",
   "execution_count": 85,
   "id": "f894223f",
   "metadata": {},
   "outputs": [
    {
     "data": {
      "text/plain": [
       "100"
      ]
     },
     "execution_count": 85,
     "metadata": {},
     "output_type": "execute_result"
    }
   ],
   "source": [
    "student_grades={'Bob':{'A1':100, 'A2':90}, 'Steve': {'A1':80, 'A2':70}}\n",
    "student_grades.get('Bob').get('A1')"
   ]
  },
  {
   "cell_type": "code",
   "execution_count": 79,
   "id": "ccf9ce51",
   "metadata": {},
   "outputs": [
    {
     "name": "stdout",
     "output_type": "stream",
     "text": [
      "Bob {'A1'}\n",
      "Bob\n"
     ]
    }
   ],
   "source": [
    "for k,v in student_grades.items():\n",
    "    print(k,v)\n",
    "\n",
    "for k in student_grades.keys():\n",
    "    print(k)"
   ]
  },
  {
   "cell_type": "code",
   "execution_count": 80,
   "id": "8966a4ac",
   "metadata": {},
   "outputs": [
    {
     "name": "stdout",
     "output_type": "stream",
     "text": [
      "{'A1'}\n"
     ]
    }
   ],
   "source": [
    "for v in student_grades.values():\n",
    "    print(v)"
   ]
  },
  {
   "cell_type": "markdown",
   "id": "096daa6a",
   "metadata": {},
   "source": [
    "# Dictionary: Additional Example"
   ]
  },
  {
   "cell_type": "markdown",
   "id": "5be5e59f",
   "metadata": {},
   "source": [
    "- what do I know about dictionary\n",
    "- dic = {}\n",
    "- dic = {\"key1\": value, \"key2\": value2, ...}\n",
    "- need \"\" around keys and values that are strings\n",
    "- print(dic[\"key1\"])\n",
    "- keys must be unique, otherwise, 2nd value override 1st value\n",
    "- values can be numbers, strings, lists, even other dictionaries.\n",
    "- can add/change item\n",
    "- looping through a dic"
   ]
  },
  {
   "cell_type": "markdown",
   "id": "039eb02a",
   "metadata": {},
   "source": [
    "- Each key maps to a single value"
   ]
  },
  {
   "cell_type": "code",
   "execution_count": null,
   "id": "de2244a8",
   "metadata": {},
   "outputs": [
    {
     "name": "stdout",
     "output_type": "stream",
     "text": [
      "Larissa\n",
      "22\n",
      "Psychology\n"
     ]
    }
   ],
   "source": [
    "# dic{}\n",
    "# need \"\" around keys\n",
    "# need \n",
    "\n",
    "me = {\"name\": \"Larissa\", \"age\": 22, \"major\": \"Psychology\"}\n",
    "print(me[\"name\"])\n",
    "print(me[\"age\"])\n",
    "print(me[\"major\"])\n"
   ]
  },
  {
   "cell_type": "code",
   "execution_count": null,
   "id": "aabe90ab",
   "metadata": {},
   "outputs": [
    {
     "name": "stdout",
     "output_type": "stream",
     "text": [
      "Larissa\n",
      "22\n",
      "Psychology\n"
     ]
    }
   ],
   "source": [
    "for i in me:\n",
    "    print(me[i])"
   ]
  },
  {
   "cell_type": "markdown",
   "id": "b43f7568",
   "metadata": {},
   "source": [
    "- indentation and print()"
   ]
  },
  {
   "cell_type": "code",
   "execution_count": null,
   "id": "4e30c2cb",
   "metadata": {},
   "outputs": [
    {
     "name": "stdout",
     "output_type": "stream",
     "text": [
      "Larissa\n",
      "22\n",
      "Psychology\n",
      "Psychology\n"
     ]
    }
   ],
   "source": [
    "for i in me:\n",
    "    print(me[i]) # print out each item's result\n",
    "print(me[i]) # when print function is at the same level \n",
    "             # (indentation) of for loop\n",
    "             # only print out the last item's result"
   ]
  },
  {
   "cell_type": "markdown",
   "id": "fccb9871",
   "metadata": {},
   "source": [
    "- keys must be unique\n",
    "- the second value will override the first value"
   ]
  },
  {
   "cell_type": "code",
   "execution_count": 125,
   "id": "feb3c794",
   "metadata": {},
   "outputs": [
    {
     "name": "stdout",
     "output_type": "stream",
     "text": [
      "3\n"
     ]
    }
   ],
   "source": [
    "dic = {\"a\": 2, \"a\": 3}\n",
    "print(dic[\"a\"])"
   ]
  },
  {
   "cell_type": "markdown",
   "id": "e45e9582",
   "metadata": {},
   "source": [
    "- can add/change item"
   ]
  },
  {
   "cell_type": "code",
   "execution_count": 129,
   "id": "56dd932b",
   "metadata": {},
   "outputs": [
    {
     "data": {
      "text/plain": [
       "{'A': 5, 'B': 4, 'C': 6}"
      ]
     },
     "execution_count": 129,
     "metadata": {},
     "output_type": "execute_result"
    }
   ],
   "source": [
    "dc = {\"A\":3, \"B\":4}\n",
    "# wrong: d{\"C\":5}\n",
    "# wrong: d{\"A\"}\n",
    "dc[\"A\"] = 5\n",
    "dc[\"C\"] = 6\n",
    "dc"
   ]
  },
  {
   "cell_type": "markdown",
   "id": "8a95c287",
   "metadata": {},
   "source": [
    "- looping thru a dic\n",
    "- for key, value in d.items(): print(key, value)"
   ]
  },
  {
   "cell_type": "code",
   "execution_count": 130,
   "id": "3ab0e661",
   "metadata": {},
   "outputs": [
    {
     "name": "stdout",
     "output_type": "stream",
     "text": [
      "A 5\n",
      "B 4\n",
      "C 6\n"
     ]
    }
   ],
   "source": [
    "for k, v in dc.items():\n",
    "    print(k,v)"
   ]
  },
  {
   "cell_type": "markdown",
   "id": "bf5027e0",
   "metadata": {},
   "source": [
    "- checking and retrieving keys\n",
    "- Or safely with .get() (avoids error if key doesn't exist):\n",
    "- dic.get(\"key\", default)\n",
    "- if \"key\" in dic:\n",
    "     print(dic[\"key\"])"
   ]
  },
  {
   "cell_type": "code",
   "execution_count": 131,
   "id": "094e0188",
   "metadata": {},
   "outputs": [
    {
     "name": "stdout",
     "output_type": "stream",
     "text": [
      "Larissa\n"
     ]
    }
   ],
   "source": [
    "if \"name\" in me:\n",
    "    print(me[\"name\"])"
   ]
  },
  {
   "cell_type": "code",
   "execution_count": null,
   "id": "f047df6d",
   "metadata": {},
   "outputs": [],
   "source": [
    "if \"height\" in me:\n",
    "    print(me[\"height\"])\n",
    "# no printout"
   ]
  },
  {
   "cell_type": "code",
   "execution_count": 132,
   "id": "32973a52",
   "metadata": {},
   "outputs": [
    {
     "name": "stdout",
     "output_type": "stream",
     "text": [
      "Not available\n"
     ]
    }
   ],
   "source": [
    "print(me.get(\"height\", \"Not available\"))"
   ]
  },
  {
   "cell_type": "code",
   "execution_count": 133,
   "id": "f186bb8c",
   "metadata": {},
   "outputs": [
    {
     "name": "stdout",
     "output_type": "stream",
     "text": [
      "Larissa\n"
     ]
    }
   ],
   "source": [
    "print(me.get(\"name\", \"Not available\"))"
   ]
  },
  {
   "cell_type": "code",
   "execution_count": 134,
   "id": "e647e671",
   "metadata": {},
   "outputs": [
    {
     "name": "stdout",
     "output_type": "stream",
     "text": [
      "Larissa\n"
     ]
    }
   ],
   "source": [
    "print(me.get(\"name\", 0))\n",
    "# dic.get(\"key\", default)"
   ]
  },
  {
   "cell_type": "markdown",
   "id": "40370332",
   "metadata": {},
   "source": [
    "- to count items"
   ]
  },
  {
   "cell_type": "code",
   "execution_count": 137,
   "id": "5767d37a",
   "metadata": {},
   "outputs": [
    {
     "ename": "NameError",
     "evalue": "name 'items' is not defined",
     "output_type": "error",
     "traceback": [
      "\u001b[0;31m---------------------------------------------------------------------------\u001b[0m",
      "\u001b[0;31mNameError\u001b[0m                                 Traceback (most recent call last)",
      "Cell \u001b[0;32mIn[137], line 2\u001b[0m\n\u001b[1;32m      1\u001b[0m counts \u001b[38;5;241m=\u001b[39m {}\n\u001b[0;32m----> 2\u001b[0m \u001b[38;5;28;01mfor\u001b[39;00m item \u001b[38;5;129;01min\u001b[39;00m items:\n\u001b[1;32m      3\u001b[0m     counts[item] \u001b[38;5;241m=\u001b[39m counts\u001b[38;5;241m.\u001b[39mget(item, \u001b[38;5;241m0\u001b[39m) \u001b[38;5;241m+\u001b[39m \u001b[38;5;241m1\u001b[39m\n",
      "\u001b[0;31mNameError\u001b[0m: name 'items' is not defined"
     ]
    }
   ],
   "source": [
    "counts = {}\n",
    "for item in items:\n",
    "    counts[item] = counts.get(item, 0) + 1\n"
   ]
  },
  {
   "cell_type": "markdown",
   "id": "d0f30126",
   "metadata": {},
   "source": [
    "# CSV Module"
   ]
  },
  {
   "cell_type": "code",
   "execution_count": 83,
   "id": "63d80c58",
   "metadata": {},
   "outputs": [],
   "source": [
    "import csv\n"
   ]
  },
  {
   "cell_type": "code",
   "execution_count": null,
   "id": "6f4ec04b",
   "metadata": {},
   "outputs": [
    {
     "name": "stdout",
     "output_type": "stream",
     "text": [
      "['Sunday', '34', '18']\n",
      "['Monday', '43', '30']\n",
      "['Tuesday', '39', '27']\n",
      "['Wednesday', '34', '21']\n",
      "['Thursday', '27', '16']\n",
      "['Friday', '34', '18']\n",
      "['Saturday', '32', '12']\n"
     ]
    }
   ],
   "source": [
    "with open('temps.csv') as f:\n",
    "        reader=csv.reader(f) \n",
    "        for row in reader: # loop through each row\n",
    "              print(row) # Prints each row (as a list of strings).\n",
    "# f is a variable name that refers to the file object returned by open('band_nir.csv')\n",
    "# reader : csv is reading in this file\n",
    "# reader is a variable. It stores whatever the expression csv.reader(f) returns.\n",
    "# uses the csv.reader() function to turn the file into a reader object that you can loop through.\n",
    "# each row in the CSV becomes a list of strings."
   ]
  },
  {
   "cell_type": "code",
   "execution_count": 148,
   "id": "f9d7507a",
   "metadata": {},
   "outputs": [
    {
     "name": "stdout",
     "output_type": "stream",
     "text": [
      "['Sunday', '34', '18']\n",
      "['Monday', '43', '30']\n",
      "['Tuesday', '39', '27']\n",
      "['Wednesday', '34', '21']\n",
      "['Thursday', '27', '16']\n",
      "['Friday', '34', '18']\n",
      "['Saturday', '32', '12']\n"
     ]
    }
   ],
   "source": [
    "import csv\n",
    "with open (\"temps.csv\") as f:\n",
    "    reader = csv.reader(f)\n",
    "    for row in reader:\n",
    "        print(row)"
   ]
  },
  {
   "cell_type": "markdown",
   "id": "aa75adca",
   "metadata": {},
   "source": [
    "- with open('~/temps.csv') as f:\n",
    "- with open('../temps.csv') as f:"
   ]
  },
  {
   "cell_type": "code",
   "execution_count": 90,
   "id": "3034b362",
   "metadata": {},
   "outputs": [
    {
     "name": "stdout",
     "output_type": "stream",
     "text": [
      "{'Sunday': {'high': '34', 'low': '18'}, 'Monday': {'high': '43', 'low': '30'}, 'Tuesday': {'high': '39', 'low': '27'}, 'Wednesday': {'high': '34', 'low': '21'}, 'Thursday': {'high': '27', 'low': '16'}, 'Friday': {'high': '34', 'low': '18'}, 'Saturday': {'high': '32', 'low': '12'}}\n"
     ]
    }
   ],
   "source": [
    "data = {}\n",
    "with open('temps.csv') as f:\n",
    "        reader=csv.reader(f)\n",
    "        for row in reader:\n",
    "              data[row[0]]={'high':row[1], 'low': row[2]}\n",
    "# reader : csv is reading in this file\n",
    "\n",
    "print(data)"
   ]
  },
  {
   "cell_type": "markdown",
   "id": "6f9f350e",
   "metadata": {},
   "source": []
  },
  {
   "cell_type": "code",
   "execution_count": 92,
   "id": "57c66a36",
   "metadata": {},
   "outputs": [],
   "source": [
    "# transfer numerical value to categorical value\n",
    "with open('hot_cold.csv','w') as f:\n",
    "    writer = csv.writer(f)\n",
    "    for k,v in data.items():\n",
    "        if int(v.get('high')) >32:\n",
    "            writer.writerow([k, \"hot\"])\n",
    "        elif int(v.get('high'))>27:\n",
    "            writer.writerow([k,'warm'])\n",
    "        else:\n",
    "            writer.writerow([k, \"cold\"])\n",
    "            # hot_cold.csv being created\n",
    "\n"
   ]
  },
  {
   "cell_type": "markdown",
   "id": "6f3da5a0",
   "metadata": {},
   "source": [
    "# Initiation"
   ]
  },
  {
   "cell_type": "markdown",
   "id": "46c5d95a",
   "metadata": {},
   "source": [
    "- What about setting all_pos = True before the loop?\n",
    "- This is called initialization.\n",
    "- You need a starting assumption before you check anything.\n",
    "- Here, you start by assuming all numbers are positive (all_pos = True).\n",
    "- Then, during the loop, if you find a problem (a non-positive number), you update all_pos to False.\n",
    "- Without initializing all_pos, Python would give you an error because you would be trying to use a variable that doesn’t have a value yet."
   ]
  },
  {
   "cell_type": "code",
   "execution_count": null,
   "id": "11170226",
   "metadata": {},
   "outputs": [
    {
     "name": "stdout",
     "output_type": "stream",
     "text": [
      "False\n",
      "False\n",
      "False\n",
      "False\n"
     ]
    }
   ],
   "source": [
    "'''\n",
    "4. Write a loop to compute a variable `all_pos` that has the value `True` if\n",
    "all of the elements in a list of integers `lst` are positive and `False`\n",
    "otherwise. Again, assume `lst` has the value `[-1, 2, -3, 4, 0]` for the\n",
    "purposes of this prompt.\n",
    "'''\n",
    "# YOUR CODE HERE\n",
    "lst = [-1, 2, -3, 4, 0]\n",
    "all_pos = True # starting point (assuming all integers are positive)\n",
    "for i in lst:\n",
    "    if i <= 0:\n",
    "        all_pos = False # use == when comparing two values; = is for assigning values\n",
    "        break\n",
    "    # As soon as the loop finds one number that is <= 0, all_pos = False and quit loop\n",
    "print(all_pos)\n",
    "\n"
   ]
  },
  {
   "cell_type": "markdown",
   "id": "b16e9f94",
   "metadata": {},
   "source": [
    "# Break\n",
    "- When break is hit and executed within a for loop, the loop stops iterating through the remaining elements, and the program continues after the loop.    "
   ]
  },
  {
   "cell_type": "code",
   "execution_count": 107,
   "id": "bcafc3a2",
   "metadata": {},
   "outputs": [
    {
     "name": "stdout",
     "output_type": "stream",
     "text": [
      "False\n",
      "False\n",
      "False\n"
     ]
    }
   ],
   "source": [
    "lst = [-1, 2, -3, 4, 0]\n",
    "all_pos = True \n",
    "for i in lst:\n",
    "    if i <= 0:\n",
    "        all_pos = False\n",
    "        print(all_pos) # pring out three Falses"
   ]
  },
  {
   "cell_type": "markdown",
   "id": "e3db2abb",
   "metadata": {},
   "source": [
    "# Why do you see three False prints?\n",
    "\n",
    "- Because: The loop goes over every element. Whenever i is <= 0, it sets all_pos = False and prints it immediately. In your list, -1, -3, and 0 are all <= 0, so it prints False three times (once for each of those)."
   ]
  },
  {
   "cell_type": "markdown",
   "id": "f5636803",
   "metadata": {},
   "source": [
    "# Questions\n",
    "- different print positions in for loop, serving different purposes\n",
    "- always need to set a beginning point?? still find it somehow conceptually confusing"
   ]
  },
  {
   "cell_type": "markdown",
   "id": "4a951aec",
   "metadata": {},
   "source": [
    "# Max\n",
    "- max([1, 5, 3])\tReturns 5\n",
    "- max(words, key=len)\tReturns longest word\n",
    "- max(dict, key=dict.get)\tReturns key with highest value"
   ]
  },
  {
   "cell_type": "code",
   "execution_count": 142,
   "id": "fcd959c7",
   "metadata": {},
   "outputs": [
    {
     "name": "stdout",
     "output_type": "stream",
     "text": [
      "10\n"
     ]
    }
   ],
   "source": [
    "numbers = [3, 10, 7]\n",
    "print(max(numbers))"
   ]
  },
  {
   "cell_type": "code",
   "execution_count": 143,
   "id": "6bb2143c",
   "metadata": {},
   "outputs": [
    {
     "name": "stdout",
     "output_type": "stream",
     "text": [
      "4\n"
     ]
    }
   ],
   "source": [
    "numbers = [2,3,4]\n",
    "print(max(numbers))"
   ]
  },
  {
   "cell_type": "code",
   "execution_count": null,
   "id": "211d60b6",
   "metadata": {},
   "outputs": [
    {
     "name": "stdout",
     "output_type": "stream",
     "text": [
      "elephant\n"
     ]
    }
   ],
   "source": [
    "words = [\"cat\", \"elephant\", \"dog\"]\n",
    "print(max(words))  # → 'elephant' (because 'e' > 'c' and 'd' in lexicographical order)\n"
   ]
  },
  {
   "cell_type": "code",
   "execution_count": 3,
   "id": "ca44ca91",
   "metadata": {},
   "outputs": [
    {
     "data": {
      "text/plain": [
       "'c'"
      ]
     },
     "execution_count": 3,
     "metadata": {},
     "output_type": "execute_result"
    }
   ],
   "source": [
    "\n",
    "lst2 = [\"a\",\"b\",\"c\"]\n",
    "max(lst2)"
   ]
  },
  {
   "cell_type": "code",
   "execution_count": null,
   "id": "5a8d3545",
   "metadata": {},
   "outputs": [
    {
     "name": "stdout",
     "output_type": "stream",
     "text": [
      "elephant\n"
     ]
    }
   ],
   "source": [
    "print(max(words, key=len))  \n",
    "# → 'elephant' (because it's the longest)\n",
    "# The key= argument tells Python how to compare the items.\n",
    "# It applies len() to each word:\n",
    "# len(\"cat\") → 3\n",
    "# len(\"elephant\") → 8\n",
    "# len(\"dog\") → 3"
   ]
  },
  {
   "cell_type": "code",
   "execution_count": null,
   "id": "a00cb73d",
   "metadata": {},
   "outputs": [],
   "source": []
  },
  {
   "cell_type": "markdown",
   "id": "1ad0683a",
   "metadata": {},
   "source": [
    "# How to represent row and colomn in for loop\n",
    "- row ~ range(len(list))\n",
    "- colomn ~ range(len(list[0]))"
   ]
  },
  {
   "cell_type": "markdown",
   "id": "b0ff1593",
   "metadata": {},
   "source": [
    "for i in range(len(band_red)):\n",
    "    for j in range(len(band_red[0])):\n",
    "        red = band_red[i][j]\n",
    "        nir = band_nir[i][j]\n",
    "\n",
    "        ndvi = (nir - red) / (nir + red) # be careful about the indentation\n",
    "\n",
    "        if -0.25 < ndvi <= 0.25:\n",
    "            counts[\"barren\"] += 1\n",
    "        elif 0.25 < ndvi <= 1.0:\n",
    "            counts[\"vegetation-rich\"] += 1\n",
    "        else:\n",
    "            counts[\"flood\"] += 1 "
   ]
  },
  {
   "cell_type": "markdown",
   "id": "66d800cb",
   "metadata": {},
   "source": [
    "# zip"
   ]
  },
  {
   "cell_type": "code",
   "execution_count": null,
   "id": "fd800a31",
   "metadata": {},
   "outputs": [
    {
     "ename": "AttributeError",
     "evalue": "'dict' object has no attribute 'append'",
     "output_type": "error",
     "traceback": [
      "\u001b[0;31m---------------------------------------------------------------------------\u001b[0m",
      "\u001b[0;31mAttributeError\u001b[0m                            Traceback (most recent call last)",
      "Cell \u001b[0;32mIn[155], line 6\u001b[0m\n\u001b[1;32m      4\u001b[0m dic \u001b[38;5;241m=\u001b[39m \u001b[38;5;28mlist\u001b[39m(\u001b[38;5;28mzip\u001b[39m(keys, values))\n\u001b[1;32m      5\u001b[0m rv \u001b[38;5;241m=\u001b[39m {}\n\u001b[0;32m----> 6\u001b[0m rv\u001b[38;5;241m.\u001b[39mappend(dic)\n",
      "\u001b[0;31mAttributeError\u001b[0m: 'dict' object has no attribute 'append'"
     ]
    }
   ],
   "source": [
    "keys = ['a', 'b', 'c']\n",
    "values = [1, 2, 3]\n",
    "# zip(keys, values) # does not work\n",
    "list(zip(keys, values))\n"
   ]
  },
  {
   "cell_type": "markdown",
   "id": "607d2839",
   "metadata": {},
   "source": [
    "## Coin Flip Demo #\n",
    "- why do we need while loop\n",
    "- how many times do i need to flip a coin in order to get 5 heas in a row?\n"
   ]
  },
  {
   "cell_type": "code",
   "execution_count": 6,
   "id": "88aa0515",
   "metadata": {},
   "outputs": [
    {
     "name": "stdout",
     "output_type": "stream",
     "text": [
      "0.8444218515250481\n",
      "0.7579544029403025\n",
      "0.420571580830845\n",
      "0.25891675029296335\n",
      "0.5112747213686085\n"
     ]
    }
   ],
   "source": [
    "import random\n",
    "random.seed(0)\n",
    "for i in range(5):\n",
    "    print(random.random())\n",
    "\n"
   ]
  },
  {
   "cell_type": "code",
   "execution_count": 9,
   "id": "edd1e162",
   "metadata": {},
   "outputs": [
    {
     "name": "stdout",
     "output_type": "stream",
     "text": [
      "heads\n"
     ]
    }
   ],
   "source": [
    "import random\n",
    "flip = random.random()\n",
    "if flip <0.5:\n",
    "    print(\"heads\")\n",
    "else:\n",
    "    print(\"tails\")"
   ]
  },
  {
   "cell_type": "code",
   "execution_count": null,
   "id": "80e51c3e",
   "metadata": {},
   "outputs": [],
   "source": [
    "target = 5\n",
    "consecutive_heads = 0\n",
    "total_flips = 0\n",
    "random.seed(0)\n",
    "\n",
    "# while ...:\n",
    "    # flip a coin\n",
    "    # if it's heads, increment consecutive_heads\n",
    "    # if it's tails,set consecutive heads back to 0\n",
    "    # increment total_flips after the coin has been flipped\n",
    "\n",
    "while consecutive_heads < target:\n",
    "    # flip a coin\n",
    "    flip = random.random()\n",
    "   \n",
    "\n",
    "    # if it's heads, increment consecutive_heads\n",
    "    if flip < 0.5:\n",
    "        consecutive_heads +=1\n",
    "    \n",
    "    # if it's tails,set consecutive heads back to 0\n",
    "    else: \n",
    "        consdcutive_heads = 0\n",
    "\n",
    "    # increment total_flips after the coin has been flipped\n",
    "    total_flips += 1\n",
    "\n",
    "print(total_flips)"
   ]
  }
 ],
 "metadata": {
  "kernelspec": {
   "display_name": "base",
   "language": "python",
   "name": "python3"
  },
  "language_info": {
   "codemirror_mode": {
    "name": "ipython",
    "version": 3
   },
   "file_extension": ".py",
   "mimetype": "text/x-python",
   "name": "python",
   "nbconvert_exporter": "python",
   "pygments_lexer": "ipython3",
   "version": "3.13.5"
  }
 },
 "nbformat": 4,
 "nbformat_minor": 5
}
