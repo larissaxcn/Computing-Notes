{
 "cells": [
  {
   "cell_type": "markdown",
   "id": "25d4c592",
   "metadata": {},
   "source": [
    "## Loops\n",
    "\n",
    "### `for` loop\n",
    "\n",
    "Repeat something again and again for a set number of items."
   ]
  },
  {
   "cell_type": "code",
   "execution_count": 2,
   "id": "41fe3106",
   "metadata": {},
   "outputs": [
    {
     "name": "stdout",
     "output_type": "stream",
     "text": [
      "0\n",
      "1\n",
      "2\n",
      "3\n",
      "4\n"
     ]
    }
   ],
   "source": [
    "# [0, 5)\n",
    "for i in range(5):\n",
    "    print(i)"
   ]
  },
  {
   "cell_type": "markdown",
   "id": "3f41196c",
   "metadata": {},
   "source": [
    "### `while` loop\n",
    "\n",
    "Repeat something until a boolean expression evaluates to `False`."
   ]
  },
  {
   "cell_type": "code",
   "execution_count": null,
   "id": "765fc7b2",
   "metadata": {},
   "outputs": [
    {
     "name": "stdout",
     "output_type": "stream",
     "text": [
      "0\n",
      "1\n",
      "2\n",
      "3\n",
      "4\n"
     ]
    }
   ],
   "source": [
    "i = 0\n",
    "while i < 5:\n",
    "    print(i)\n",
    "    i += 1 # i = i + 1\n",
    "\n",
    "# this is a comment that is not executed"
   ]
  },
  {
   "cell_type": "code",
   "execution_count": 9,
   "id": "e7d59795",
   "metadata": {},
   "outputs": [
    {
     "name": "stdout",
     "output_type": "stream",
     "text": [
      "10\n",
      "9\n",
      "8\n",
      "7\n",
      "6\n"
     ]
    }
   ],
   "source": [
    "i = 10\n",
    "while i > 5:\n",
    "    print(i)\n",
    "    i -= 1 # i = i - 1"
   ]
  },
  {
   "cell_type": "markdown",
   "id": "d93e4f74",
   "metadata": {},
   "source": [
    "# Decision Structures "
   ]
  },
  {
   "cell_type": "code",
   "execution_count": 11,
   "id": "e9f7bc65",
   "metadata": {},
   "outputs": [
    {
     "name": "stdout",
     "output_type": "stream",
     "text": [
      "2\n"
     ]
    }
   ],
   "source": [
    "for i in range(5):\n",
    "    if i == 2:\n",
    "        print(i)"
   ]
  },
  {
   "cell_type": "code",
   "execution_count": 16,
   "id": "9933e4b9",
   "metadata": {},
   "outputs": [
    {
     "name": "stdout",
     "output_type": "stream",
     "text": [
      "31\n"
     ]
    }
   ],
   "source": [
    "# [1900, 2026)\n",
    "count = 0\n",
    "for i in range(1900, 2026):\n",
    "    if ((i % 4 == 0) and (i % 100 != 0)) or (i % 400 == 0):\n",
    "        count += 1 # count = count + 1\n",
    "\n",
    "print(count)"
   ]
  },
  {
   "cell_type": "code",
   "execution_count": 18,
   "id": "64b58f5f",
   "metadata": {},
   "outputs": [
    {
     "name": "stdout",
     "output_type": "stream",
     "text": [
      "0 Less than two\n",
      "1 Less than two\n",
      "2\n",
      "3 Greater than two\n",
      "4 Greater than two\n"
     ]
    }
   ],
   "source": [
    "for i in range(5):\n",
    "    if i == 2:\n",
    "        print(i)\n",
    "    elif i > 2:\n",
    "        print(i, \"Greater than two\")\n",
    "    else:\n",
    "        print(i, \"Less than two\")"
   ]
  },
  {
   "cell_type": "markdown",
   "id": "5729858e",
   "metadata": {},
   "source": [
    "## Data Structures\n",
    "\n",
    "List (ordered collection) `[]`"
   ]
  },
  {
   "cell_type": "code",
   "execution_count": 19,
   "id": "1430c5d3",
   "metadata": {},
   "outputs": [],
   "source": [
    "colors = [\"pink\", \"yellow\", \"green\"]\n",
    "\n",
    "m = [[1, 2, 3, 4], \n",
    "     [5, 6, 7, 8], \n",
    "     [9, 10, 11, 12]]"
   ]
  },
  {
   "cell_type": "code",
   "execution_count": 20,
   "id": "20516b73",
   "metadata": {},
   "outputs": [
    {
     "data": {
      "text/plain": [
       "['pink', 'yellow', 'green', 'blue']"
      ]
     },
     "execution_count": 20,
     "metadata": {},
     "output_type": "execute_result"
    }
   ],
   "source": [
    "colors.append(\"blue\")\n",
    "colors"
   ]
  },
  {
   "cell_type": "code",
   "execution_count": 21,
   "id": "fc2aeb5a",
   "metadata": {},
   "outputs": [
    {
     "data": {
      "text/plain": [
       "['pink', 'yellow', 'green']"
      ]
     },
     "execution_count": 21,
     "metadata": {},
     "output_type": "execute_result"
    }
   ],
   "source": [
    "colors.remove(\"blue\")\n",
    "colors"
   ]
  },
  {
   "cell_type": "code",
   "execution_count": 22,
   "id": "837be5d5",
   "metadata": {},
   "outputs": [
    {
     "data": {
      "text/plain": [
       "['pink', 'yellow', 'green', 'purple', 'aqua']"
      ]
     },
     "execution_count": 22,
     "metadata": {},
     "output_type": "execute_result"
    }
   ],
   "source": [
    "colors.extend([\"purple\", \"aqua\"])\n",
    "colors"
   ]
  },
  {
   "cell_type": "code",
   "execution_count": 24,
   "id": "86c09450",
   "metadata": {},
   "outputs": [
    {
     "name": "stdout",
     "output_type": "stream",
     "text": [
      "True\n",
      "False\n"
     ]
    }
   ],
   "source": [
    "print(\"yellow\" in colors)\n",
    "print(\"orange\" in colors)"
   ]
  },
  {
   "cell_type": "code",
   "execution_count": 25,
   "id": "318a3b9c",
   "metadata": {},
   "outputs": [
    {
     "data": {
      "text/plain": [
       "5"
      ]
     },
     "execution_count": 25,
     "metadata": {},
     "output_type": "execute_result"
    }
   ],
   "source": [
    "len(colors)"
   ]
  },
  {
   "cell_type": "code",
   "execution_count": 27,
   "id": "efe9ce08",
   "metadata": {},
   "outputs": [
    {
     "name": "stdout",
     "output_type": "stream",
     "text": [
      "pinks\n",
      "yellows\n",
      "greens\n",
      "purples\n",
      "aquas\n"
     ]
    }
   ],
   "source": [
    "for i in colors:\n",
    "    print(i + \"s\")"
   ]
  },
  {
   "cell_type": "code",
   "execution_count": 33,
   "id": "e80df28c",
   "metadata": {},
   "outputs": [
    {
     "name": "stdout",
     "output_type": "stream",
     "text": [
      "1 False\n",
      "2 False\n",
      "3 False\n",
      "4 False\n",
      "5 True\n",
      "6 True\n",
      "7 True\n",
      "8 True\n",
      "9 True\n",
      "10 True\n",
      "11 True\n",
      "12 True\n"
     ]
    }
   ],
   "source": [
    "for i in m:\n",
    "    for j in i:\n",
    "        #print(i, j)\n",
    "        print(j, j > 4)"
   ]
  },
  {
   "cell_type": "code",
   "execution_count": 38,
   "id": "a063025d",
   "metadata": {},
   "outputs": [
    {
     "data": {
      "text/plain": [
       "['yellows']"
      ]
     },
     "execution_count": 38,
     "metadata": {},
     "output_type": "execute_result"
    }
   ],
   "source": [
    "[i + \"s\" for i in colors if 'yellow' == i] # list comprehension"
   ]
  },
  {
   "cell_type": "code",
   "execution_count": 39,
   "id": "e3046961",
   "metadata": {},
   "outputs": [
    {
     "data": {
      "text/plain": [
       "['pink', 'yellow', 'green', 'purple', 'aqua']"
      ]
     },
     "execution_count": 39,
     "metadata": {},
     "output_type": "execute_result"
    }
   ],
   "source": [
    "colors"
   ]
  },
  {
   "cell_type": "code",
   "execution_count": 42,
   "id": "8c53d8a3",
   "metadata": {},
   "outputs": [
    {
     "data": {
      "text/plain": [
       "'pink'"
      ]
     },
     "execution_count": 42,
     "metadata": {},
     "output_type": "execute_result"
    }
   ],
   "source": [
    "colors[0]"
   ]
  },
  {
   "cell_type": "code",
   "execution_count": 43,
   "id": "5966c79e",
   "metadata": {},
   "outputs": [
    {
     "data": {
      "text/plain": [
       "['pink', 'yellow']"
      ]
     },
     "execution_count": 43,
     "metadata": {},
     "output_type": "execute_result"
    }
   ],
   "source": [
    "colors[0:2]"
   ]
  },
  {
   "cell_type": "code",
   "execution_count": 45,
   "id": "ed88c86b",
   "metadata": {},
   "outputs": [
    {
     "data": {
      "text/plain": [
       "['purple', 'aqua']"
      ]
     },
     "execution_count": 45,
     "metadata": {},
     "output_type": "execute_result"
    }
   ],
   "source": [
    "colors[3:]"
   ]
  },
  {
   "cell_type": "code",
   "execution_count": 46,
   "id": "f257cf5e",
   "metadata": {},
   "outputs": [
    {
     "data": {
      "text/plain": [
       "['yellow', 'green']"
      ]
     },
     "execution_count": 46,
     "metadata": {},
     "output_type": "execute_result"
    }
   ],
   "source": [
    "colors[1:3]"
   ]
  },
  {
   "cell_type": "code",
   "execution_count": 48,
   "id": "cf82cadf",
   "metadata": {},
   "outputs": [
    {
     "data": {
      "text/plain": [
       "'purple'"
      ]
     },
     "execution_count": 48,
     "metadata": {},
     "output_type": "execute_result"
    }
   ],
   "source": [
    "colors[-2]"
   ]
  },
  {
   "cell_type": "code",
   "execution_count": 50,
   "id": "47fdafa2",
   "metadata": {},
   "outputs": [
    {
     "data": {
      "text/plain": [
       "['jclindaniel', 'jclindaniel', 'jclindaniel']"
      ]
     },
     "execution_count": 50,
     "metadata": {},
     "output_type": "execute_result"
    }
   ],
   "source": [
    "email = \"jclindaniel@uchicago.edu\"\n",
    "email[:-13]\n",
    "lst_of_emails = [\"jclindaniel@uchicago.edu\", \"jclindaniel@uchicago.edu\", \"jclindaniel@uchicago.edu\"]\n",
    "cnet_lst = [i[:-13] for i in lst_of_emails]\n",
    "cnet_lst\n"
   ]
  },
  {
   "cell_type": "code",
   "execution_count": 53,
   "id": "6385406d",
   "metadata": {},
   "outputs": [
    {
     "data": {
      "text/plain": [
       "'jclindaniel'"
      ]
     },
     "execution_count": 53,
     "metadata": {},
     "output_type": "execute_result"
    }
   ],
   "source": [
    "email.replace(\"@uchicago.edu\", \"\")"
   ]
  },
  {
   "cell_type": "code",
   "execution_count": 57,
   "id": "3038e5f9",
   "metadata": {},
   "outputs": [
    {
     "name": "stdout",
     "output_type": "stream",
     "text": [
      "2\n"
     ]
    }
   ],
   "source": [
    "s = \"This is a sample sentence\"\n",
    "tokens = s.lower().split()\n",
    "\n",
    "count = 0\n",
    "target_words = ['sample', 'test', 'sentence']\n",
    "for t in tokens:\n",
    "    if t in target_words:\n",
    "        count += 1\n",
    "print(count)"
   ]
  },
  {
   "cell_type": "markdown",
   "id": "e6550d14",
   "metadata": {},
   "source": [
    "## Tuples\n",
    "\n",
    "()"
   ]
  },
  {
   "cell_type": "code",
   "execution_count": 59,
   "id": "57b9f0ac",
   "metadata": {},
   "outputs": [
    {
     "name": "stdout",
     "output_type": "stream",
     "text": [
      "1 2\n"
     ]
    }
   ],
   "source": [
    "x, y = (1, 2)\n",
    "print(x, y)"
   ]
  },
  {
   "cell_type": "code",
   "execution_count": 60,
   "id": "acc0c959",
   "metadata": {},
   "outputs": [
    {
     "name": "stdout",
     "output_type": "stream",
     "text": [
      "2 1\n"
     ]
    }
   ],
   "source": [
    "x, y = y, x\n",
    "print(x, y)"
   ]
  },
  {
   "cell_type": "markdown",
   "id": "dafd21d9",
   "metadata": {},
   "source": [
    "## Dictionaries\n",
    "\n",
    "```\n",
    "{}\n",
    "{key1:value1, key2:value2}\n",
    "```"
   ]
  },
  {
   "cell_type": "code",
   "execution_count": 61,
   "id": "70b25df0",
   "metadata": {},
   "outputs": [
    {
     "data": {
      "text/plain": [
       "dict"
      ]
     },
     "execution_count": 61,
     "metadata": {},
     "output_type": "execute_result"
    }
   ],
   "source": [
    "studentId = {}\n",
    "type(studentId)"
   ]
  },
  {
   "cell_type": "code",
   "execution_count": 62,
   "id": "2933470b",
   "metadata": {},
   "outputs": [
    {
     "data": {
      "text/plain": [
       "351060"
      ]
     },
     "execution_count": 62,
     "metadata": {},
     "output_type": "execute_result"
    }
   ],
   "source": [
    "studentId = {\"Joe\": 351060, \"Bob\": 342111}\n",
    "studentId[\"Joe\"]"
   ]
  },
  {
   "cell_type": "code",
   "execution_count": 63,
   "id": "cd2fe942",
   "metadata": {},
   "outputs": [
    {
     "ename": "KeyError",
     "evalue": "'Steve'",
     "output_type": "error",
     "traceback": [
      "\u001b[0;31m---------------------------------------------------------------------------\u001b[0m",
      "\u001b[0;31mKeyError\u001b[0m                                  Traceback (most recent call last)",
      "Cell \u001b[0;32mIn[63], line 1\u001b[0m\n\u001b[0;32m----> 1\u001b[0m studentId[\u001b[38;5;124m\"\u001b[39m\u001b[38;5;124mSteve\u001b[39m\u001b[38;5;124m\"\u001b[39m]\n",
      "\u001b[0;31mKeyError\u001b[0m: 'Steve'"
     ]
    }
   ],
   "source": [
    "studentId[\"Steve\"]"
   ]
  },
  {
   "cell_type": "code",
   "execution_count": 64,
   "id": "6dfad763",
   "metadata": {},
   "outputs": [
    {
     "data": {
      "text/plain": [
       "0"
      ]
     },
     "execution_count": 64,
     "metadata": {},
     "output_type": "execute_result"
    }
   ],
   "source": [
    "studentId.get(\"Steve\", 0)"
   ]
  },
  {
   "cell_type": "code",
   "execution_count": 65,
   "id": "b22115ef",
   "metadata": {},
   "outputs": [
    {
     "data": {
      "text/plain": [
       "342111"
      ]
     },
     "execution_count": 65,
     "metadata": {},
     "output_type": "execute_result"
    }
   ],
   "source": [
    "studentId.get(\"Bob\", 0)"
   ]
  },
  {
   "cell_type": "code",
   "execution_count": 66,
   "id": "61b319c8",
   "metadata": {},
   "outputs": [
    {
     "data": {
      "text/plain": [
       "True"
      ]
     },
     "execution_count": 66,
     "metadata": {},
     "output_type": "execute_result"
    }
   ],
   "source": [
    "\"Bob\" in studentId"
   ]
  },
  {
   "cell_type": "code",
   "execution_count": 69,
   "id": "ec9232c5",
   "metadata": {},
   "outputs": [
    {
     "data": {
      "text/plain": [
       "100"
      ]
     },
     "execution_count": 69,
     "metadata": {},
     "output_type": "execute_result"
    }
   ],
   "source": [
    "student_scores = {'Bob': [100, 90], 'Steve': [80, 70]}\n",
    "student_scores.get('Bob')[0]"
   ]
  },
  {
   "cell_type": "code",
   "execution_count": 71,
   "id": "c57023d1",
   "metadata": {},
   "outputs": [
    {
     "data": {
      "text/plain": [
       "100"
      ]
     },
     "execution_count": 71,
     "metadata": {},
     "output_type": "execute_result"
    }
   ],
   "source": [
    "student_grades = {'Bob': {'A1': 100, 'A2': 90}, 'Steve': {'A1': 80, 'A2': 70}}\n",
    "student_grades.get('Bob').get('A1')"
   ]
  },
  {
   "cell_type": "code",
   "execution_count": 74,
   "id": "3e1e9749",
   "metadata": {},
   "outputs": [
    {
     "name": "stdout",
     "output_type": "stream",
     "text": [
      "Bob {'A1': 100, 'A2': 90}\n",
      "Steve {'A1': 80, 'A2': 70}\n",
      "Bob\n",
      "Steve\n",
      "{'A1': 100, 'A2': 90}\n",
      "{'A1': 80, 'A2': 70}\n"
     ]
    }
   ],
   "source": [
    "for k, v in student_grades.items():\n",
    "    print(k, v)\n",
    "\n",
    "for k in student_grades.keys():\n",
    "    print(k)\n",
    "\n",
    "for v in student_grades.values():\n",
    "    print(v)"
   ]
  },
  {
   "cell_type": "markdown",
   "id": "fbb0d109",
   "metadata": {},
   "source": [
    "# CSV Module"
   ]
  },
  {
   "cell_type": "code",
   "execution_count": 75,
   "id": "a23ae1c4",
   "metadata": {},
   "outputs": [],
   "source": [
    "import csv"
   ]
  },
  {
   "cell_type": "code",
   "execution_count": 77,
   "id": "e729bc4c",
   "metadata": {},
   "outputs": [
    {
     "name": "stdout",
     "output_type": "stream",
     "text": [
      "['Sunday', '34', '18']\n",
      "['Monday', '43', '30']\n",
      "['Tuesday', '39', '27']\n",
      "['Wednesday', '34', '21']\n",
      "['Thursday', '27', '16']\n",
      "['Friday', '34', '18']\n",
      "['Saturday', '32', '12']\n"
     ]
    }
   ],
   "source": [
    "with open('temps.csv') as f:\n",
    "    reader = csv.reader(f)\n",
    "    for row in reader:\n",
    "        print(row)"
   ]
  },
  {
   "cell_type": "code",
   "execution_count": 78,
   "id": "cd5bd3bd",
   "metadata": {},
   "outputs": [
    {
     "name": "stdout",
     "output_type": "stream",
     "text": [
      "{'Sunday': {'high': '34', 'low': '18'}, 'Monday': {'high': '43', 'low': '30'}, 'Tuesday': {'high': '39', 'low': '27'}, 'Wednesday': {'high': '34', 'low': '21'}, 'Thursday': {'high': '27', 'low': '16'}, 'Friday': {'high': '34', 'low': '18'}, 'Saturday': {'high': '32', 'low': '12'}}\n"
     ]
    }
   ],
   "source": [
    "data = {}\n",
    "with open('temps.csv') as f:\n",
    "    reader = csv.reader(f)\n",
    "    for row in reader:\n",
    "        data[row[0]] = {'high': row[1], 'low': row[2]}\n",
    "\n",
    "print(data)"
   ]
  },
  {
   "cell_type": "code",
   "execution_count": 80,
   "id": "62f97e2a",
   "metadata": {},
   "outputs": [],
   "source": [
    "with open('hot_cold.csv', 'w') as f:\n",
    "    writer = csv.writer(f)\n",
    "    for k, v in data.items():\n",
    "        if int(v.get('high')) > 32:\n",
    "            writer.writerow([k, 'hot'])\n",
    "        elif int(v.get('high')) > 27:\n",
    "            writer.writerow([k, 'warm'])\n",
    "        else:\n",
    "            writer.writerow([k, 'cold'])"
   ]
  }
 ],
 "metadata": {
  "kernelspec": {
   "display_name": "base",
   "language": "python",
   "name": "python3"
  },
  "language_info": {
   "codemirror_mode": {
    "name": "ipython",
    "version": 3
   },
   "file_extension": ".py",
   "mimetype": "text/x-python",
   "name": "python",
   "nbconvert_exporter": "python",
   "pygments_lexer": "ipython3",
   "version": "3.11.7"
  }
 },
 "nbformat": 4,
 "nbformat_minor": 5
}
